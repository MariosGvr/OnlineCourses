{
 "cells": [
  {
   "cell_type": "code",
   "execution_count": null,
   "metadata": {},
   "outputs": [],
   "source": [
    "def prob_1st_org(k,m,n,first_org):\n",
    "    P=k+m+n\n",
    "    if first_org=='AA':\n",
    "        return k/P\n",
    "    elif first_org=='Aa':\n",
    "        return m/P\n",
    "    elif first_org=='aa':\n",
    "        return n/P\n",
    "\n",
    "def prob_2nd_org(k,m,n,first_org,second_org):\n",
    "    P=k+m+n\n",
    "    if first_org=='AA':\n",
    "        if second_org=='AA':\n",
    "            return (k-1)/(P-1)\n",
    "        elif second_org=='Aa':\n",
    "            return m/(P-1)\n",
    "        elif second_org=='aa':\n",
    "            return n/(P-1)\n",
    "    elif first_org=='Aa':\n",
    "        if second_org=='AA':\n",
    "            return k/(P-1)\n",
    "        elif second_org=='Aa':\n",
    "            return (m-1)/(P-1)\n",
    "        elif second_org=='aa':\n",
    "            return n/(P-1)\n",
    "    elif first_org=='aa':\n",
    "        if second_org=='AA':\n",
    "            return k/(P-1)\n",
    "        elif second_org=='Aa':\n",
    "            return m/(P-1)\n",
    "        elif second_org=='aa':\n",
    "            return (n-1)/(P-1)\n",
    "\n",
    "def prob_dom_allele(g1,g2):\n",
    "    probs={'AAAA':1,\n",
    "            'AAAa':1,\n",
    "            'AAaa':1,\n",
    "            'AaAA':1,\n",
    "            'AaAa':0.75,\n",
    "            'Aaaa':0.5,\n",
    "            'aaAA':1,\n",
    "            'aaAa':0.5,\n",
    "            'aaaa':0\n",
    "            }\n",
    "    return probs[g1+g2]\n",
    "k=23\n",
    "m=30\n",
    "n=29\n",
    "\n",
    "prob=0\n",
    "for first in ['AA','Aa','aa']:\n",
    "    for second in ['AA','Aa','aa']:\n",
    "        prob+=prob_1st_org(k,m,n,first)*prob_2nd_org(k,m,n,first,second)*prob_dom_allele(first,second)\n",
    "        \n",
    "print(prob)"
   ]
  }
 ],
 "metadata": {
  "kernelspec": {
   "display_name": "Python 3",
   "language": "python",
   "name": "python3"
  },
  "language_info": {
   "codemirror_mode": {
    "name": "ipython",
    "version": 3
   },
   "file_extension": ".py",
   "mimetype": "text/x-python",
   "name": "python",
   "nbconvert_exporter": "python",
   "pygments_lexer": "ipython3",
   "version": "3.6.4"
  }
 },
 "nbformat": 4,
 "nbformat_minor": 2
}
