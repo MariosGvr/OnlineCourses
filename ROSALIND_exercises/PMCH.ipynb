{
 "cells": [
  {
   "cell_type": "code",
   "execution_count": null,
   "metadata": {},
   "outputs": [],
   "source": [
    "file_name = input(\"give the file name: \")\n",
    "list_seq=[]\n",
    "sequence=''\n",
    "path = 'C:\\\\Users\\\\mario\\\\Downloads\\\\' + file_name\n",
    "\n",
    "\n",
    "with open(path) as file_object:\n",
    "    for line in file_object:\n",
    "        if line[0]== \">\":\n",
    "            list_seq.append(sequence)\n",
    "            sequence=''\n",
    "            continue\n",
    "        else:\n",
    "            sequence += line[:-1]\n",
    "\n",
    "A=0\n",
    "G=0\n",
    "for base in sequence:\n",
    "    if base == \"A\":\n",
    "        A +=1\n",
    "    if base == \"G\":\n",
    "        G += 1\n",
    "\n",
    "\n",
    "def pper (n):\n",
    "    if n == 1:\n",
    "        return 1\n",
    "    else:\n",
    "        \n",
    "        return n*pper(n-1)\n",
    "\n",
    "AU= pper(A)\n",
    "GC= pper(G)\n",
    "print(AU*GC)\n",
    "\n"
   ]
  }
 ],
 "metadata": {
  "kernelspec": {
   "display_name": "Python 3",
   "language": "python",
   "name": "python3"
  },
  "language_info": {
   "codemirror_mode": {
    "name": "ipython",
    "version": 3
   },
   "file_extension": ".py",
   "mimetype": "text/x-python",
   "name": "python",
   "nbconvert_exporter": "python",
   "pygments_lexer": "ipython3",
   "version": "3.6.4"
  }
 },
 "nbformat": 4,
 "nbformat_minor": 2
}
