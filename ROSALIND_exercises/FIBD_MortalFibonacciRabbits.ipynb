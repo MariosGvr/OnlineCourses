{
 "cells": [
  {
   "cell_type": "code",
   "execution_count": 1,
   "metadata": {},
   "outputs": [
    {
     "name": "stdout",
     "output_type": "stream",
     "text": [
      "for how many months? :6\n",
      "for how many months do they survive? 3\n",
      "4\n"
     ]
    }
   ],
   "source": [
    "#Mortal Fibonacci Rabbits\n",
    "\n",
    "rabbit_nums= [0,1]\n",
    "months= int(input(\"for how many months? :\"))\n",
    "death_month = int(input(\"for how many months do they survive? \"))\n",
    "a= death_month \n",
    "\n",
    "\n",
    "\n",
    "Fn1=1\n",
    "Fn2=0\n",
    "for generation in range(0,death_month-1):\n",
    "    temp=Fn1\n",
    "    Fn1+= Fn2\n",
    "    Fn2= temp\n",
    "    rabbit_nums.append(Fn1)\n",
    "    \n",
    "#print (rabbit_nums)\n",
    "\n",
    "for month in range(0,months-death_month):\n",
    "    num_of_rabbits= sum(rabbit_nums[-a:-1])\n",
    "    #print (rabbit_nums[-a:-1])\n",
    "    rabbit_nums.append(num_of_rabbits)\n",
    "    \n",
    "    \n",
    "print (rabbit_nums[-1])"
   ]
  },
  {
   "cell_type": "code",
   "execution_count": null,
   "metadata": {},
   "outputs": [],
   "source": []
  }
 ],
 "metadata": {
  "kernelspec": {
   "display_name": "Python 3",
   "language": "python",
   "name": "python3"
  },
  "language_info": {
   "codemirror_mode": {
    "name": "ipython",
    "version": 3
   },
   "file_extension": ".py",
   "mimetype": "text/x-python",
   "name": "python",
   "nbconvert_exporter": "python",
   "pygments_lexer": "ipython3",
   "version": "3.6.4"
  }
 },
 "nbformat": 4,
 "nbformat_minor": 2
}
