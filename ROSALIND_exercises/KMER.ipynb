{
 "cells": [
  {
   "cell_type": "code",
   "execution_count": null,
   "metadata": {},
   "outputs": [],
   "source": [
    "file_name = input(\"give the file name: \")\n",
    "list_seq=[]\n",
    "sequence=''\n",
    "path = 'C:\\\\Users\\\\mario\\\\Downloads\\\\' + file_name\n",
    "\n",
    "\n",
    "with open(path) as file_object:\n",
    "    for line in file_object:\n",
    "        if line[0]== \">\":\n",
    "            list_seq.append(sequence)\n",
    "            sequence=''\n",
    "            continue\n",
    "        else:\n",
    "            sequence += line[:-1]\n",
    "            \n",
    "dict_tetr= {}\n",
    "\n",
    "def perms_repeat(alphabet,n,word):\n",
    "    if n==0:\n",
    "        dict_tetr[word]= 0\n",
    "\n",
    "    else:\n",
    "        for let in alphabet:\n",
    "            word+=let\n",
    "            perms_repeat(alphabet,n-1,word)\n",
    "            word=word[:-1]\n",
    "            \n",
    "alphabet=['A','C','G','T']\n",
    "\n",
    "k=4\n",
    "perms_repeat(alphabet,k,\"\")\n",
    "\n",
    "for i in range(len(sequence)-3):\n",
    "    tetr=sequence[i:i+4]\n",
    "    dict_tetr[tetr] +=1\n",
    "\n",
    "\n",
    "for val in dict_tetr.values():\n",
    "    print (val, end=\" \")\n",
    "\n"
   ]
  }
 ],
 "metadata": {
  "kernelspec": {
   "display_name": "Python 3",
   "language": "python",
   "name": "python3"
  },
  "language_info": {
   "codemirror_mode": {
    "name": "ipython",
    "version": 3
   },
   "file_extension": ".py",
   "mimetype": "text/x-python",
   "name": "python",
   "nbconvert_exporter": "python",
   "pygments_lexer": "ipython3",
   "version": "3.6.4"
  }
 },
 "nbformat": 4,
 "nbformat_minor": 2
}
