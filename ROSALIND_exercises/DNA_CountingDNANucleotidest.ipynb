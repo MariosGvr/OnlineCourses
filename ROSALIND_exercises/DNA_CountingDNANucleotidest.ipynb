{
 "cells": [
  {
   "cell_type": "markdown",
   "metadata": {},
   "source": [
    "first way to do it..."
   ]
  },
  {
   "cell_type": "code",
   "execution_count": 1,
   "metadata": {},
   "outputs": [
    {
     "name": "stdout",
     "output_type": "stream",
     "text": [
      "225 224 240 235\n"
     ]
    }
   ],
   "source": [
    "a=\"TCAGTTAGTCCATTGGTGACGCACGGGATCGACTGTTATTGTGGGCGCGCCTTACGGAGCTCGCTGTCTCTGTCCCTCATAGGCTTGGATTTTCCAGGCATAGAACAGGAATCGGGCGTTGGAGTTACGTGCCATAAACAAATTCTGGGAAATACATTTATTGCTCGCATTTACGGCCAGCCAATAAGCGTGCACGACAATTCTGGACGTAATTGGAGCAGTATACAGAATTGGCGGAAATCAGGGCTTTGGAGCAGTGTTATGACAGCACTCAGGCATCATTCATAAACTCCCATCAAGGACGGCACCGTGGCCTGATTATGAACTCTTGCATCCGGCGTTCGGAAATCGCATCATCACGTACGGGAGGCACCCCTTAGGCGATCGACAGCTGACTTACATGCATTGGTACCTATCACCGAGAGCGTTGGGGAGGCAGTATGGAGTATCATCCTGCGGAACACTCAATAATCGGTCGCTTGGATAACCAGCGATGCACTCTTCCGGCGGGAGCTTGTAATTCATTGCTCGGACTCAGCTATCTGGGCGGCTCAGTTAATAGGTGAAATGTATTGATAGCGGACCCGAGCAAGGAACCTGCCTAAGACACTCACATACACCACCCCTCGGTGGGATCATTTGCGATTATGTTATGCGCAGGCATGACATGGTATAGCAGATGGACTTGGATCTTCTTCCCTCACCACAGTCAGGGCAGTGACATGTTTCGCCTTAGCTTGGATCAACGGCGCACAGAGCAGCACAGTTTATCCATTAACCTTTCAGAGAGACTTGGTATGCCAGTTTTAGTGTAAAGTCCTACCCCCCTTCGAGTAACCCTATTGAGACGTTTCTAGCTGGGCATTTTCATAATGCAGCTACAGGGCCGCTTATCGATGGTGGGCAGAGCTAGGTTACGTTCGA\"\n",
    "print(str(a.count(\"A\"))+\" \"+str(a.count(\"C\"))+\" \"+str(a.count(\"G\"))+\" \"+str(a.count(\"T\")))"
   ]
  },
  {
   "cell_type": "markdown",
   "metadata": {},
   "source": [
    "second way to do it..."
   ]
  },
  {
   "cell_type": "code",
   "execution_count": 3,
   "metadata": {},
   "outputs": [
    {
     "name": "stdout",
     "output_type": "stream",
     "text": [
      "ACAAACGTCGTATGGATAAGAGAGAACGTGAGTTGTAAGGTCACTCAACGTTAGTGTAACGATCAATCTAGAGATCCGATTTTCCCGTCTGACGGGTCAGCTTCAACAGCAACACATATCCCCAGCACTCCGGCTGGCCTTCGTCTCTTAATATAGGGTCGCTAGGGGCGACTTCAAACTGAGGCATAATTACTGGCCGCACTCGCCGGTCACACGCACTAGCGTGCTGACGTCCAATCTCTTGTGGGTACTTAGATGCCTGCACGAATCGCTATACCACACTCTGAGAGAATTTATCATATTATGCGCGGCCCGGCCGGGTGATGCCATTTGTAAGCGAACCGATAGCTGCCCTGCGTGTTACCAGCCTGCGGGTTTATGAACAATCCTCCCTTAGTTTGAGATATACATGCATCAACCGTCAAATATGGCAACCAAACCCGTGGATAAGCTCGACCATGCGCAACCAGTATGCCAGCCTTCCGAGGCGCCTCAAGCCCTTACGACTAAATAGTGATCGCCTTTATATTTGACAGTTCGACCGATCCTGAAGTGATGCCCTAAGATTACTTGACCTGGGCGTATTTTCGTGGCATGAACGATCGCCTGTCCCGGTGCATGCGATTTGCCATCAAGTGGCCAAAGGAGATAGAGCTCAACAAGCGGGGTGTTGATGATAGCCACGAATTCTGCATGTTGCAAAACGGAGGTATTCGGCAGCGCTTCTTCGAAGGAGATCAGCCCGGGGCCGCCGGGTACAGAGGTTCTAACTTCTGCGATGAACCTAATGGATCAGCAGTCCCTAATGTGGAGCTTCATTGGGCGACTCCTTACCTTATTATGCC\n",
      "208 221 209 207\n",
      "845\n"
     ]
    }
   ],
   "source": [
    "a= input()\n",
    "num_A=0\n",
    "num_C=0\n",
    "num_G=0\n",
    "num_T=0\n",
    "count=0\n",
    "for i in a:\n",
    "    count +=1\n",
    "    if i== \"A\":\n",
    "        num_A+=1\n",
    "    elif i== \"C\":\n",
    "        num_C+=1\n",
    "    elif i==\"G\":\n",
    "        num_G+=1\n",
    "    elif i== \"T\":\n",
    "        num_T +=1\n",
    "    else:\n",
    "        print(\"there is a wrong input at \"+ str(count) + \"th bp\")\n",
    "print(str(num_A)+\" \"+str(num_C)+\" \"+str(num_G)+\" \"+str(num_T))\n",
    "print(count)"
   ]
  },
  {
   "cell_type": "code",
   "execution_count": null,
   "metadata": {},
   "outputs": [],
   "source": []
  }
 ],
 "metadata": {
  "kernelspec": {
   "display_name": "Python 3",
   "language": "python",
   "name": "python3"
  },
  "language_info": {
   "codemirror_mode": {
    "name": "ipython",
    "version": 3
   },
   "file_extension": ".py",
   "mimetype": "text/x-python",
   "name": "python",
   "nbconvert_exporter": "python",
   "pygments_lexer": "ipython3",
   "version": "3.6.4"
  }
 },
 "nbformat": 4,
 "nbformat_minor": 2
}
