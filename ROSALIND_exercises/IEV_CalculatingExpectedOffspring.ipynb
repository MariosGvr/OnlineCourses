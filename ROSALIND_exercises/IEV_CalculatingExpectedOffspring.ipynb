{
 "cells": [
  {
   "cell_type": "code",
   "execution_count": null,
   "metadata": {},
   "outputs": [],
   "source": [
    "total=0\n",
    "string= input(\"place your input here: \")\n",
    "lista= string.split()\n",
    "listb= [2,2,2,1.5,1,0]\n",
    "for i in range(6):\n",
    "    a=int(lista[i])\n",
    "    b=listb[i]\n",
    "    total += (a*b)\n",
    "\n",
    "print (total)\n"
   ]
  }
 ],
 "metadata": {
  "kernelspec": {
   "display_name": "Python 3",
   "language": "python",
   "name": "python3"
  },
  "language_info": {
   "codemirror_mode": {
    "name": "ipython",
    "version": 3
   },
   "file_extension": ".py",
   "mimetype": "text/x-python",
   "name": "python",
   "nbconvert_exporter": "python",
   "pygments_lexer": "ipython3",
   "version": "3.6.4"
  }
 },
 "nbformat": 4,
 "nbformat_minor": 2
}
