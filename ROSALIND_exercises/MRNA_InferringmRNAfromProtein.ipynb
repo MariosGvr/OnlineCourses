{
 "cells": [
  {
   "cell_type": "code",
   "execution_count": null,
   "metadata": {},
   "outputs": [],
   "source": [
    "\n",
    "codon_num = {\n",
    "    'I': 3,'M': 1,\n",
    "    'T': 4,'N': 2,\n",
    "    'K': 2,'S': 6,\n",
    "    'R': 6,'L': 6,\n",
    "    'P': 4,'H': 2, \n",
    "    'Q': 2,'V': 4,\n",
    "    'A': 4,'D': 2, \n",
    "    'E': 2,'G': 4,\n",
    "    'F': 2,'Y': 2,\n",
    "    '_': 3,'C':2,\n",
    "    'W': 1,\n",
    "    } \n",
    "\n",
    "\n",
    "\n",
    "prot_seq=input(\"The protein sequence is: \")\n",
    "\n",
    "def dif_mRNAs(prot_seq):\n",
    "    num_mRNAs= 3\n",
    "    for aa in prot_seq:\n",
    "        num_mRNAs *= codon_num[aa]\n",
    "    return num_mRNAs\n",
    "    \n",
    "    \n",
    "print(dif_mRNAs(prot_seq)%1000000)"
   ]
  }
 ],
 "metadata": {
  "kernelspec": {
   "display_name": "Python 3",
   "language": "python",
   "name": "python3"
  },
  "language_info": {
   "codemirror_mode": {
    "name": "ipython",
    "version": 3
   },
   "file_extension": ".py",
   "mimetype": "text/x-python",
   "name": "python",
   "nbconvert_exporter": "python",
   "pygments_lexer": "ipython3",
   "version": "3.6.4"
  }
 },
 "nbformat": 4,
 "nbformat_minor": 2
}
