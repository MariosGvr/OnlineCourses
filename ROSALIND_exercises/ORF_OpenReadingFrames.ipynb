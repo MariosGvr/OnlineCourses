{
 "cells": [
  {
   "cell_type": "code",
   "execution_count": null,
   "metadata": {},
   "outputs": [],
   "source": [
    "table = {\n",
    "    'ATA':'I', 'ATC':'I', 'ATT':'I', 'ATG':'M',\n",
    "    'ACA':'T', 'ACC':'T', 'ACG':'T', 'ACT':'T',\n",
    "    'AAC':'N', 'AAT':'N', 'AAA':'K', 'AAG':'K',\n",
    "    'AGC':'S', 'AGT':'S', 'AGA':'R', 'AGG':'R',\n",
    "    'CTA':'L', 'CTC':'L', 'CTG':'L', 'CTT':'L',\n",
    "    'CCA':'P', 'CCC':'P', 'CCG':'P', 'CCT':'P',\n",
    "    'CAC':'H', 'CAT':'H', 'CAA':'Q', 'CAG':'Q',\n",
    "    'CGA':'R', 'CGC':'R', 'CGG':'R', 'CGT':'R',\n",
    "    'GTA':'V', 'GTC':'V', 'GTG':'V', 'GTT':'V',\n",
    "    'GCA':'A', 'GCC':'A', 'GCG':'A', 'GCT':'A',\n",
    "    'GAC':'D', 'GAT':'D', 'GAA':'E', 'GAG':'E',\n",
    "    'GGA':'G', 'GGC':'G', 'GGG':'G', 'GGT':'G',\n",
    "    'TCA':'S', 'TCC':'S', 'TCG':'S', 'TCT':'S',\n",
    "    'TTC':'F', 'TTT':'F', 'TTA':'L', 'TTG':'L',\n",
    "    'TAC':'Y', 'TAT':'Y', 'TAA':'___', 'TAG':'___',\n",
    "    'TGC':'C', 'TGT':'C', 'TGA':'___', 'TGG':'W',\n",
    "    }\n",
    "\n",
    "poslist=[]\n",
    "dnaSeq=input()\n",
    "subSeq=\"ATG\"\n",
    "r = 0\n",
    "\n",
    "while r != -1 :\n",
    "        r = dnaSeq.find(subSeq,r+1)\n",
    "        poslist.append(r)\n",
    "\n",
    "del poslist[-1]\n",
    "\n",
    "temp = dnaSeq\n",
    "seqlist=[]\n",
    "for position in poslist:\n",
    "    temp = dnaSeq[position:]\n",
    "    seqlist.append(temp)\n",
    "\n",
    "codon=''\n",
    "PR=''\n",
    "aminoacid=''\n",
    "for sequence in seqlist:\n",
    "    for base in sequence:\n",
    "        codon += base\n",
    "        if len(codon)== 3:\n",
    "            aminoacid= table[codon]\n",
    "            codon=\"\"\n",
    "            if aminoacid == \"___\":\n",
    "                PR +=aminoacid\n",
    "                break\n",
    "            PR +=aminoacid\n",
    "    print(PR)  \n",
    "    PR=\"\"     \n",
    "            \n",
    "b=''            \n",
    "b=dnaSeq[::-1]\n",
    "b=b.replace(\"A\",\"t\").replace(\"T\",\"a\").replace(\"G\",\"c\").replace(\"C\",\"g\").upper()\n",
    "print(b) #και το ξανατρεχω με τη νεα ακολουθια"
   ]
  }
 ],
 "metadata": {
  "kernelspec": {
   "display_name": "Python 3",
   "language": "python",
   "name": "python3"
  },
  "language_info": {
   "codemirror_mode": {
    "name": "ipython",
    "version": 3
   },
   "file_extension": ".py",
   "mimetype": "text/x-python",
   "name": "python",
   "nbconvert_exporter": "python",
   "pygments_lexer": "ipython3",
   "version": "3.6.4"
  }
 },
 "nbformat": 4,
 "nbformat_minor": 2
}
