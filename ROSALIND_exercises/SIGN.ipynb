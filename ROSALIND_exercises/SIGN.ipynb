{
 "cells": [
  {
   "cell_type": "code",
   "execution_count": null,
   "metadata": {},
   "outputs": [],
   "source": [
    "\n",
    "def print_perms(lista,cur_perm,perm_list):\n",
    "    if len(lista)>1:\n",
    "        for i in lista:\n",
    "            cur_perm.append(i)\n",
    "            listcopy=lista[:]\n",
    "            listcopy.remove(i)\n",
    "            print_perms(listcopy,cur_perm,perm_list)\n",
    "            cur_perm.pop()\n",
    "    elif len(lista)==1:\n",
    "        perm=[]\n",
    "        for i in cur_perm+lista:\n",
    "            perm.append(str(i))\n",
    "        perm_list.append(perm)\n",
    "\n",
    "def print_perms_repetition(lista,cur_perm,perm_list,depth,n):\n",
    "    if depth<n:\n",
    "        for i in lista:\n",
    "            cur_perm.append(i)\n",
    "            print_perms_repetition(lista,cur_perm,perm_list,depth+1,n)\n",
    "            cur_perm.pop()\n",
    "    elif depth==n:\n",
    "        perm_list.append(cur_perm[:])\n",
    "\n",
    "\n",
    "n=int(input(\"how many? \"))\n",
    "\n",
    "\n",
    "lista=[]\n",
    "for i in range(1,n+1):\n",
    "    lista.append(i)\n",
    "\n",
    "\n",
    "num_perms=[]\n",
    "sign_perms=[]\n",
    "print_perms(lista,[],num_perms)\n",
    "#print (num_perms)\n",
    "print_perms_repetition(['','-'],[],sign_perms,0,n)\n",
    "#print (sign_perms)\n",
    "\n",
    "fact=1\n",
    "power=1\n",
    "for i in range(n):\n",
    "    fact*=(i+1)\n",
    "\n",
    "\n",
    "print(fact*(2**n))\n",
    "\n",
    "for num_perm in num_perms:\n",
    "    for sign_perm in sign_perms:\n",
    "        string_perm=\"\"\n",
    "        for i in range(n):\n",
    "            string_perm+=sign_perm[i]+num_perm[i]+' '\n",
    "        string_perm=string_perm[:-1]\n",
    "        print(string_perm)\n"
   ]
  }
 ],
 "metadata": {
  "kernelspec": {
   "display_name": "Python 3",
   "language": "python",
   "name": "python3"
  },
  "language_info": {
   "codemirror_mode": {
    "name": "ipython",
    "version": 3
   },
   "file_extension": ".py",
   "mimetype": "text/x-python",
   "name": "python",
   "nbconvert_exporter": "python",
   "pygments_lexer": "ipython3",
   "version": "3.6.4"
  }
 },
 "nbformat": 4,
 "nbformat_minor": 2
}
