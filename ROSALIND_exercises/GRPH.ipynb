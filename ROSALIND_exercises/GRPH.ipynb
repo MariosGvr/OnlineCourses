{
 "cells": [
  {
   "cell_type": "code",
   "execution_count": null,
   "metadata": {},
   "outputs": [],
   "source": [
    "sequence=\"\"\n",
    "header=\"\"\n",
    "with open('rosalind_grph.txt') as file_object:\n",
    "    for line in file_object:\n",
    "        if line[0]== \">\":\n",
    "            dna_dict.update({header:sequence})\n",
    "            header = line[1:-1]\n",
    "            sequence=\"\"\n",
    "\n",
    "        else:\n",
    "            if line[-1]!= \"\\n\":\n",
    "                sequence += line\n",
    "            else:\n",
    "                sequence += line[:-1]\n",
    "    dna_dict.update({header:sequence})\n",
    "\n",
    "\n",
    "\n",
    "\n",
    "list_str=\"\"\n",
    "for codename,seq in dna_dict.items():\n",
    "    for codename2,seq2 in dna_dict.items():\n",
    "        if seq[-3:]==seq2[:3] and seq!=seq2:\n",
    "            #print (seq, codename, \" \", seq2, codename2)\n",
    "            list_str+=codename+\" \"+codename2+\"\\n\"\n",
    "            \n",
    "print(list_str)"
   ]
  }
 ],
 "metadata": {
  "kernelspec": {
   "display_name": "Python 3",
   "language": "python",
   "name": "python3"
  },
  "language_info": {
   "codemirror_mode": {
    "name": "ipython",
    "version": 3
   },
   "file_extension": ".py",
   "mimetype": "text/x-python",
   "name": "python",
   "nbconvert_exporter": "python",
   "pygments_lexer": "ipython3",
   "version": "3.6.4"
  }
 },
 "nbformat": 4,
 "nbformat_minor": 2
}
