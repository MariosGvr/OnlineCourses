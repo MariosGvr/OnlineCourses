{
 "cells": [
  {
   "cell_type": "code",
   "execution_count": null,
   "metadata": {},
   "outputs": [],
   "source": [
    "def pper (n,k,y):\n",
    "    if k == y:\n",
    "        return 1\n",
    "    else:\n",
    "        y += 1\n",
    "        return n*pper(n-1,k,y)\n",
    "\n",
    "\n",
    "n= int(input(\"n : \"))\n",
    "k= int(input('k :'))\n",
    "y=0\n",
    "result=str( pper(n,k,y))\n",
    "print(result[-6:])\n"
   ]
  }
 ],
 "metadata": {
  "kernelspec": {
   "display_name": "Python 3",
   "language": "python",
   "name": "python3"
  },
  "language_info": {
   "codemirror_mode": {
    "name": "ipython",
    "version": 3
   },
   "file_extension": ".py",
   "mimetype": "text/x-python",
   "name": "python",
   "nbconvert_exporter": "python",
   "pygments_lexer": "ipython3",
   "version": "3.6.4"
  }
 },
 "nbformat": 4,
 "nbformat_minor": 2
}
