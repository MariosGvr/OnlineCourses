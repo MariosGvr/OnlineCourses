{
 "cells": [
  {
   "cell_type": "code",
   "execution_count": 1,
   "metadata": {
    "scrolled": true
   },
   "outputs": [
    {
     "name": "stdout",
     "output_type": "stream",
     "text": [
      "GTTCTCGGTTCTCGGTTCTCGTGGTTCTCGGTTCTCGGGTTCTCGACGGGTTCTCGCCAGTTCTCGTGTTCTCGGTTCTCGAGTTCTCGGTTCTCGCATAGTTCTCGGCCGTTCTCGGTTCTCGGTTCTCGCGGTTCTCGAAGAGTTCTCGGTTCTCGTGTTCTCGCTTAGTTCTCGTACCGGCTCGTTCTCGGTTCTCGCGTTCTCGAGCCGTTCTCGGTTCTCGACAGTTCTCGAGTTCTCGTTGGTTCTCGGGGTTCTCGGTTCTCGGTTCTCGCACTAGACAGATCTCGTTCTCGAGACGTTGTTCTCGGTTCTCGGAGCGTTCTCGGTTCTCGTGAAAAATGTTCTCGATGTTCTCGGTTCTCGATCGGTTCTCGGGTTCTCGGTTCTCGTTCCCGTTCTCGGAGTTCTCGGATTCATGTTCTCGAAAGTTCTCGTGGTTCTCGCGTTCTCGCAGAGTTCTCGTCTCTGATGGTTCTCGGTTCTCGAGTTCTCGACGGTTCTCGTGTTCTCGAGTTCTCGAACCGGGGTTCTCGGTTCTCGACTATGTTCTCGGTTCTCGGTTCTCGGGGTTCTCGTAGTTCTCGGCGTTCTCGTGTTCTCGAAGTTCTCGCGTTCTCGGTTCTCGGTTCTCGACGTTCTCGCGTTCTCGTAGAGTTCTCGAACCGCACCCGTGTTCTCGCGTTCTCGGGTGTTCTCGGTTCTCGGTTCTCGCGTTCTCGTCGTTCTCGCGAGTTCTCGCGTTCTCGGTTCTCGTGAATTGGTGAGTTCTCGAAGTTCTCGTCGTCTGATTTAAGGTTCTCGGTTCTCGGGTTCTCGGAGGTTCTCGGTTCTCGCCTGTTCTCGAGTTCTCGCGTTCTCGGCAGGTTCTCGTCCCTGCGGTTCTCGGTTCTCGATGTGTTCTCGGTTCTCGTCGGTTCTCGCGTTCTCGGGTTCTCG\n",
      "GTTCTCGGT\n",
      "(1, 8, 24, 68, 83, 111, 118, 145, 187, 213, 257, 264, 307, 325, 356, 382, 478, 533, 552, 559, 618, 625, 697, 704, 746, 801, 826, 885, 903)\n"
     ]
    }
   ],
   "source": [
    "first_seq=input()\n",
    "subseq=input()\n",
    "second_seq= subseq\n",
    "position=[]\n",
    "\n",
    "truepos = first_seq.find(subseq)\n",
    "position.append(truepos + 1)\n",
    "\n",
    "while second_seq.find(subseq) != -1:\n",
    "    second_seq = first_seq[truepos + 1:]\n",
    "    first_seq = second_seq\n",
    "    truepos = second_seq.find(subseq)\n",
    "    second_seq = first_seq[truepos + 1:]\n",
    "    position.append(truepos + 1 + position[-1])\n",
    "    \n",
    "print(tuple(position))\n"
   ]
  },
  {
   "cell_type": "code",
   "execution_count": 4,
   "metadata": {
    "scrolled": true
   },
   "outputs": [
    {
     "name": "stdout",
     "output_type": "stream",
     "text": [
      "GATATATGCATATACTT\n",
      "ATAT\n",
      "(2, 4, 10)\n"
     ]
    }
   ],
   "source": [
    "dnaSeq=input()\n",
    "subSeq=input()\n",
    "r = 0\n",
    "position=[]\n",
    "while r != -1 :\n",
    "        r = dnaSeq.find(subSeq,r+1)\n",
    "        if r >= 0:\n",
    "            position.append(r+1)\n",
    "print(tuple(position))"
   ]
  },
  {
   "cell_type": "code",
   "execution_count": null,
   "metadata": {},
   "outputs": [],
   "source": []
  }
 ],
 "metadata": {
  "kernelspec": {
   "display_name": "Python 3",
   "language": "python",
   "name": "python3"
  },
  "language_info": {
   "codemirror_mode": {
    "name": "ipython",
    "version": 3
   },
   "file_extension": ".py",
   "mimetype": "text/x-python",
   "name": "python",
   "nbconvert_exporter": "python",
   "pygments_lexer": "ipython3",
   "version": "3.7.4"
  }
 },
 "nbformat": 4,
 "nbformat_minor": 2
}
