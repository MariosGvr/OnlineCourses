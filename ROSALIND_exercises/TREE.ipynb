{
 "cells": [
  {
   "cell_type": "code",
   "execution_count": null,
   "metadata": {},
   "outputs": [],
   "source": [
    "n= int(input (\"How many nodes? \"))\n",
    "\n",
    "edge_list=[]\n",
    "\n",
    "edges= input(\"give the edges: \").split(\"\\n\")\n",
    "for edge in edges:\n",
    "    ed=edge.split(\" \") #ed einai string\n",
    "    ed=list(map(int, ed))\n",
    "    edge_list.append(tuple(ed))    \n",
    "\n",
    "  \n",
    "  \n",
    "cclist=[]\n",
    "\n",
    "for i in range(n):\n",
    "    cclist.append([i+1])\n",
    "\n",
    "for edge in edge_list:\n",
    "    tempcc=[]\n",
    "    temp=[]\n",
    "    for cc in cclist:\n",
    "        if edge[0] in cc:\n",
    "            if edge[1] in cc:\n",
    "                tempcc.append(cc)\n",
    "            else:\n",
    "                if len(temp)==0:\n",
    "                    temp=cc\n",
    "                else:\n",
    "                    temp+=cc\n",
    "                    tempcc.append(temp)\n",
    "        else:\n",
    "            if edge[1] in cc:\n",
    "                if len(temp)==0:\n",
    "                    temp=cc\n",
    "                else:\n",
    "                    temp+=cc\n",
    "                    tempcc.append(temp)\n",
    "            else:\n",
    "                tempcc.append(cc)\n",
    "    cclist=tempcc           \n",
    "print(len(cclist)-1)"
   ]
  }
 ],
 "metadata": {
  "kernelspec": {
   "display_name": "Python 3",
   "language": "python",
   "name": "python3"
  },
  "language_info": {
   "codemirror_mode": {
    "name": "ipython",
    "version": 3
   },
   "file_extension": ".py",
   "mimetype": "text/x-python",
   "name": "python",
   "nbconvert_exporter": "python",
   "pygments_lexer": "ipython3",
   "version": "3.6.4"
  }
 },
 "nbformat": 4,
 "nbformat_minor": 2
}
