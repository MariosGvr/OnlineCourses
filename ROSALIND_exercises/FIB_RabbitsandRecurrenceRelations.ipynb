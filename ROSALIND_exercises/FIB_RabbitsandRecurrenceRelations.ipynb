{
 "cells": [
  {
   "cell_type": "code",
   "execution_count": 2,
   "metadata": {},
   "outputs": [
    {
     "name": "stdout",
     "output_type": "stream",
     "text": [
      "For how many generations?: 29\n",
      "How many pairs per mature pair?: 4\n",
      "After 29 generations of rabbits we are going to have 170361678269 pairs\n"
     ]
    }
   ],
   "source": [
    "n= int(input(\"For how many generations?: \"))\n",
    "k= int(input(\"How many pairs per mature pair?: \"))\n",
    "\n",
    "\n",
    "\n",
    "Fn1=1\n",
    "Fn2=0\n",
    "for generation in range(0,n-1):\n",
    "    temp=Fn1\n",
    "    Fn1+= k*Fn2\n",
    "    Fn2= temp\n",
    "\n",
    "\n",
    "\n",
    "\n",
    "print(\"After \"+ str(n)+\" generations of rabbits we are going to have \"+ str(Fn1)+\" pairs\")"
   ]
  },
  {
   "cell_type": "code",
   "execution_count": null,
   "metadata": {},
   "outputs": [],
   "source": []
  },
  {
   "cell_type": "code",
   "execution_count": null,
   "metadata": {},
   "outputs": [],
   "source": []
  }
 ],
 "metadata": {
  "kernelspec": {
   "display_name": "Python 3",
   "language": "python",
   "name": "python3"
  },
  "language_info": {
   "codemirror_mode": {
    "name": "ipython",
    "version": 3
   },
   "file_extension": ".py",
   "mimetype": "text/x-python",
   "name": "python",
   "nbconvert_exporter": "python",
   "pygments_lexer": "ipython3",
   "version": "3.6.4"
  }
 },
 "nbformat": 4,
 "nbformat_minor": 2
}
