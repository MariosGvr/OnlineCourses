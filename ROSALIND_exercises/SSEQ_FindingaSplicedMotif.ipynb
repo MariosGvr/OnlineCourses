{
 "cells": [
  {
   "cell_type": "code",
   "execution_count": null,
   "metadata": {},
   "outputs": [],
   "source": [
    "seq1 = 'TGAGTACGAGACCTTTCTTCCTGTTGTCGGCCCCCAGTTGGCGTTGGTTCCGCTAAGAAGCGAGGAAGGAGAAGTGTCGCTTGGATGTGGGCTGCGCGCCCGACTTATTGCGGATTCCTGGTCCTAAAATCTTTCTCTCAGTGCGACAGGGTAGTCGCCTCATATTTAAGGTAACTACCGTTGTCTCATGACGTCTTTCGGGCAGGTTCGGTCTTTAACAGAGCGTCGACGGTTTGAATTCGAATGTATTGAATATAAGTGGTCAAACCGAACGCTTAGCCGATACGACTATCCCCATATTGGGGACCTCCAGAAACCCATCGGGCGTATCACGGGCCGGGAAAACGGGTATAGCACATTGGAGATTACTAGGAACAGGCCTACGGGTGCGAGTTGCTAAACAGAGGCTACTCTTACACTGCGGTCGCCACCGTCGCGCTCGTAACCTAAATTAGACGACTATAGTTTCCCAAAAGGGTCGCCCCTCCAGAATCCCCGAGAGATCGCATCTAGCCTGGCGGAGTCGATTATCAGATGTCTAGACTGCTCCCTCTACAGGTAATCGGCAGGCCATAACAGCTCTTATTAATGTCAGAAATACGTGCCCTGACAACCTCATACTAATAACAAGGTCACACCATCCCCTCCCCGAGGGGGGACTGGCGCACTACGATCAGCAGTCGATCCGAAATGTTGTTCGCAGATAACAAACCCTAACGCCTAGTCCCTTTATATTTTTTTAAAACTCTTCACCTTGCTCTGAGCCCTGTCACCAGCCTGGACTAAGATTGCATTTACTTCCTGACCGTTCAATCCATATAGGAATCATAAGCGTACTCGCGCTATGTG'\n",
    "seq2 = 'AGGGGCGGGTCCCGTTTGCTGGTGACATGGTACGACTTCGGATGCACAATTCGATCGTCGATGTTCTGCTTACTGCTCATT'\n",
    "pos = 0\n",
    "lastpos= 0 \n",
    "substrpos=\"\"\n",
    "\n",
    "for i in seq2:\n",
    "    for j in seq1:\n",
    "        pos += 1\n",
    "        if i ==j:\n",
    "            if pos > lastpos:\n",
    "                lastpos = pos\n",
    "                substrpos += (str(lastpos)+ \" \")\n",
    "                pos=0\n",
    "                break\n",
    "\n",
    "print (substrpos)"
   ]
  }
 ],
 "metadata": {
  "kernelspec": {
   "display_name": "Python 3",
   "language": "python",
   "name": "python3"
  },
  "language_info": {
   "codemirror_mode": {
    "name": "ipython",
    "version": 3
   },
   "file_extension": ".py",
   "mimetype": "text/x-python",
   "name": "python",
   "nbconvert_exporter": "python",
   "pygments_lexer": "ipython3",
   "version": "3.6.4"
  }
 },
 "nbformat": 4,
 "nbformat_minor": 2
}
