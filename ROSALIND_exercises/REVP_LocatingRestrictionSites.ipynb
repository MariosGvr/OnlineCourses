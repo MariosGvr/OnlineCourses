{
 "cells": [
  {
   "cell_type": "code",
   "execution_count": null,
   "metadata": {},
   "outputs": [],
   "source": [
    "#Locating Restriction Sites\n",
    "\n",
    "#makes the reverse and compliment sequence / it works fine\n",
    "def rev_com(site):   \n",
    "    crsite= \"\"\n",
    "    rsite=\"\"\n",
    "    rsite = site[::-1]\n",
    "    for j in rsite:\n",
    "        if j == \"A\":\n",
    "            crsite += \"T\"\n",
    "        if j == \"T\":\n",
    "            crsite += \"A\"\n",
    "        if j == \"G\":\n",
    "            crsite += \"C\"\n",
    "        if j == \"C\":\n",
    "            crsite += \"G\"\n",
    "    return (crsite)\n",
    "   \n",
    "    \n",
    "#takes the sequence\n",
    "seq= input(\"Place the sequence here: \")\n",
    "\n",
    "\n",
    "for len_site in range(4,14,2):\n",
    "    for i in range(-1,len(seq)):\n",
    "        site= seq[i+1:i+len_site+1]\n",
    "        #print (site)\n",
    "        crsite = rev_com(site)\n",
    "        #print (crsite)\n",
    "        if site== crsite and len(site)== len_site:\n",
    "            print(i+2, len(site) )"
   ]
  }
 ],
 "metadata": {
  "kernelspec": {
   "display_name": "Python 3",
   "language": "python",
   "name": "python3"
  },
  "language_info": {
   "codemirror_mode": {
    "name": "ipython",
    "version": 3
   },
   "file_extension": ".py",
   "mimetype": "text/x-python",
   "name": "python",
   "nbconvert_exporter": "python",
   "pygments_lexer": "ipython3",
   "version": "3.6.4"
  }
 },
 "nbformat": 4,
 "nbformat_minor": 2
}
