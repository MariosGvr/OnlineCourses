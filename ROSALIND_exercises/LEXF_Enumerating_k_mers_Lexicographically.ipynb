{
 "cells": [
  {
   "cell_type": "code",
   "execution_count": null,
   "metadata": {},
   "outputs": [],
   "source": [
    "def perms_repeat(alphabet,n,word):\n",
    "    if n==0:\n",
    "        print(word)\n",
    "    else:\n",
    "        for let in alphabet:\n",
    "            word+=let\n",
    "            perms_repeat(alphabet,n-1,word)\n",
    "            word=word[:-1]\n",
    "            \n",
    "#alphabet=['A','C','G','T']\n",
    "\n",
    "\n",
    "\n",
    "word=input(\"place your input here: \")\n",
    "\n",
    "alphabet = word.split()\n",
    "\n",
    "\n",
    "\n",
    "k=int(input(\"how long do you want the strings? \"))\n",
    "perms_repeat(alphabet,k,\"\")"
   ]
  }
 ],
 "metadata": {
  "kernelspec": {
   "display_name": "Python 3",
   "language": "python",
   "name": "python3"
  },
  "language_info": {
   "codemirror_mode": {
    "name": "ipython",
    "version": 3
   },
   "file_extension": ".py",
   "mimetype": "text/x-python",
   "name": "python",
   "nbconvert_exporter": "python",
   "pygments_lexer": "ipython3",
   "version": "3.6.4"
  }
 },
 "nbformat": 4,
 "nbformat_minor": 2
}
