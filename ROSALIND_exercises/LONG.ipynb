{
 "cells": [
  {
   "cell_type": "code",
   "execution_count": null,
   "metadata": {},
   "outputs": [],
   "source": [
    "file_name = input(\"give the file name: \")\n",
    "list_seq=[]\n",
    "sequence=''\n",
    "path = 'C:\\\\Users\\\\mario\\\\Downloads\\\\' + file_name\n",
    "\n",
    "\n",
    "with open(path) as file_object:\n",
    "    for line in file_object:\n",
    "        if line[0]== \">\":\n",
    "            list_seq.append(sequence)\n",
    "            sequence=''\n",
    "            continue\n",
    "        else:\n",
    "            sequence += line[:-1]\n",
    "#print (list_seq)\n",
    "#print(len(list_seq))\n",
    "\n",
    "\n",
    "list_seq=list_seq[1:]\n",
    "#list_seq=[\"ATTAGACCTG\",\"CCTGCCGGAA\",\"AGACCTGCCG\",\"GCCGGAATAC\"]\n",
    "\n",
    "score=0\n",
    "score1=0\n",
    "sequences = []\n",
    "def thaklapsw(list_seq):\n",
    "    if len(list_seq)==1:\n",
    "        print(list_seq[0])\n",
    "        print('hi')\n",
    "    else:\n",
    "        score=0\n",
    "        score1=0\n",
    "        max_seq1=''\n",
    "        max_seq2=''\n",
    "        merged_seq=''\n",
    "        for seq1 in list_seq:\n",
    "            for seq2 in list_seq:\n",
    "                if seq1 == seq2:\n",
    "                    continue\n",
    "                for i  in range(len(seq1)):\n",
    "                    if seq1[i] == seq2[0]:\n",
    "                        if seq1[i:] == seq2[:len(seq1[i:])]:\n",
    "                            score1 = len (seq1[i:])\n",
    "                            if score1 >= score:\n",
    "                                score=score1\n",
    "                                max_seq1=seq1\n",
    "                                max_seq2=seq2\n",
    "                                merged_seq=seq1[:i]+seq2\n",
    "        list_seq.remove(max_seq1)\n",
    "        list_seq.remove(max_seq2)\n",
    "        list_seq.append(merged_seq)\n",
    "        thaklapsw(list_seq)\n",
    "                            \n",
    "\n",
    "thaklapsw(list_seq)"
   ]
  }
 ],
 "metadata": {
  "kernelspec": {
   "display_name": "Python 3",
   "language": "python",
   "name": "python3"
  },
  "language_info": {
   "codemirror_mode": {
    "name": "ipython",
    "version": 3
   },
   "file_extension": ".py",
   "mimetype": "text/x-python",
   "name": "python",
   "nbconvert_exporter": "python",
   "pygments_lexer": "ipython3",
   "version": "3.6.4"
  }
 },
 "nbformat": 4,
 "nbformat_minor": 2
}
