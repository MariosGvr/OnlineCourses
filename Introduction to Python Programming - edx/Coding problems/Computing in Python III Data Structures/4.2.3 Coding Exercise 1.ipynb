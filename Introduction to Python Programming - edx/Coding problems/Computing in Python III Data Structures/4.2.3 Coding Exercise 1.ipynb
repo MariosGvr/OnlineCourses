{
 "cells": [
  {
   "cell_type": "code",
   "execution_count": null,
   "metadata": {},
   "outputs": [],
   "source": [
    "#-----------------------------------------------------------\n",
    "#Write a function called align_right. align_right should\n",
    "#take two parameters: a string (a_string) and an integer\n",
    "#(string_length), in that order.\n",
    "#\n",
    "#The function should return the same string with spaces\n",
    "#added to the left so that the text is \"right aligned\" in a\n",
    "#string. The number of spaces added should make the total\n",
    "#string length equal string_length.\n",
    "#\n",
    "#For example: align_right(\"CS1301\", 10) would return the\n",
    "#string \"    CS1301\". Four spaces are added to the left so\n",
    "#\"CS1301\" is right-aligned and the total string length is\n",
    "#10.\n",
    "#\n",
    "#HINT: Remember, len(a_string) will give you the number of\n",
    "#characters currently in a_string.\n",
    "\n",
    "\n",
    "#Add your function here!\n",
    "\n",
    "def align_right(a_string,string_length):\n",
    "    if len(a_string) < string_length:\n",
    "        spaces = string_length - len(a_string)\n",
    "        result = spaces*(\" \") + a_string\n",
    "        return result\n",
    "\n",
    "#Below are some lines of code that will test your function.\n",
    "#You can change the value of the variable(s) to test your\n",
    "#function with different inputs.\n",
    "#\n",
    "#If your function works correctly, this will originally\n",
    "#print: \"    CS1301\"\n",
    "print(align_right(\"CS1301\", 10))\n",
    "\n",
    "\n",
    "\n",
    "\n"
   ]
  }
 ],
 "metadata": {
  "kernelspec": {
   "display_name": "Python 3",
   "language": "python",
   "name": "python3"
  },
  "language_info": {
   "codemirror_mode": {
    "name": "ipython",
    "version": 3
   },
   "file_extension": ".py",
   "mimetype": "text/x-python",
   "name": "python",
   "nbconvert_exporter": "python",
   "pygments_lexer": "ipython3",
   "version": "3.8.3"
  }
 },
 "nbformat": 4,
 "nbformat_minor": 4
}
