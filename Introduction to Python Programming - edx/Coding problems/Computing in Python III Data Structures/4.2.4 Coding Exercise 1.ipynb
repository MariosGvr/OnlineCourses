{
 "cells": [
  {
   "cell_type": "code",
   "execution_count": null,
   "metadata": {},
   "outputs": [],
   "source": [
    "#Write a function called fancy_find. fancy_find should have\n",
    "#two parameters: search_within and search_for.\n",
    "#\n",
    "#fancy_find should check if search_for is found within the\n",
    "#string search_within. If it is, it should print the message\n",
    "#\"[search_for] found at index [index]!\", with [search_for]\n",
    "#and [index] replaced by the value of search_for and the\n",
    "#index at which it is found. If search_for is not found\n",
    "#within search_within, it should print, \"[search_for] was\n",
    "#not found within [search_within]!\", again with the values\n",
    "#of search_for and search_within.\n",
    "#\n",
    "#For example:\n",
    "#\n",
    "#  fancy_find(\"ABCDEF\", \"DEF\") -> \"DEF found at index 3!\"\n",
    "#  fancy_find(\"ABCDEF\", \"GHI\") -> \"GHI was not found within ABCDEF!\"\n",
    "\n",
    "\n",
    "#Add your function here!\n",
    "\n",
    "def fancy_find(search_within, search_for):\n",
    "    if search_for in search_within:\n",
    "        position = search_within.find(search_for)\n",
    "        return search_for + \" found at index \" + str(position)\n",
    "    else:\n",
    "        return search_for + \" was not found within \" + search_within\n",
    "        \n",
    "\n",
    "#Below are some lines of code that will test your function.\n",
    "#You can change the value of the variable(s) to test your\n",
    "#function with different inputs.\n",
    "#\n",
    "#If your function works correctly, this will originally\n",
    "#print:\n",
    "#DEF found at index 3!\n",
    "#GHI was not found within ABCDEF!\n",
    "\n",
    "print(fancy_find(\"ABCDEF\", \"DEF\"))\n",
    "print(fancy_find(\"ABCDEF\", \"GHI\"))\n",
    "\n",
    "\n",
    "\n"
   ]
  }
 ],
 "metadata": {
  "kernelspec": {
   "display_name": "Python 3",
   "language": "python",
   "name": "python3"
  },
  "language_info": {
   "codemirror_mode": {
    "name": "ipython",
    "version": 3
   },
   "file_extension": ".py",
   "mimetype": "text/x-python",
   "name": "python",
   "nbconvert_exporter": "python",
   "pygments_lexer": "ipython3",
   "version": "3.8.3"
  }
 },
 "nbformat": 4,
 "nbformat_minor": 4
}
