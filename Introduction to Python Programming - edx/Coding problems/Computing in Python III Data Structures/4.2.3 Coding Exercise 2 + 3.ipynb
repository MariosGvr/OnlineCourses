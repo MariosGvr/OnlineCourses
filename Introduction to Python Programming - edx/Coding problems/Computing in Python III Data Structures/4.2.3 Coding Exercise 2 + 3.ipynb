{
 "cells": [
  {
   "cell_type": "code",
   "execution_count": null,
   "metadata": {},
   "outputs": [],
   "source": [
    "#Write a function called \"last_n\" that accepts two arguments:\n",
    "#a string search_string and an integer n. The function should\n",
    "#return the last n characters from search_string. If\n",
    "#search_string is shorter than n characters, then it should\n",
    "#return the entire value of search_string.\n",
    "\n",
    "\n",
    "#Write your function here!\n",
    "\n",
    "def last_n(search_string, n):\n",
    "    result = search_string[-n:]\n",
    "    return result\n",
    "\n",
    "#The code below will test your function. If your function\n",
    "#works correctly, this should print 789, saur, and 1.\n",
    "print(last_n(\"123456789\", 3))\n",
    "print(last_n(\"Bulbasaur\", 4))\n",
    "print(last_n(\"1\", 5))\n",
    "\n",
    "\n",
    "\n",
    "\n"
   ]
  },
  {
   "cell_type": "code",
   "execution_count": null,
   "metadata": {},
   "outputs": [],
   "source": [
    "#Write a function called \"scramble\" that accepts a string\n",
    "#as an argument and returns a new string. The new string \n",
    "#should start with the last half of the original string\n",
    "#and end with the first half. \n",
    "#\n",
    "#If the length of the string is odd, split the string \n",
    "#at the floor of the length / 2 (in other words, the second\n",
    "#half is the longer half).\n",
    "#\n",
    "#For example:\n",
    "#  scramble(\"abcd\") -> \"cdab\"\n",
    "#  screamble(\"abcde\") -> \"cdeab\"\n",
    "#  scramble(\"railroad\")) -> \"roadrail\"\n",
    "#  scramble(\"fireworks\")) -> \"worksfire\"\n",
    "\n",
    "\n",
    "#Write your function here!\n",
    "\n",
    "def scramble(a_string):\n",
    "    new_string = a_string[len(a_string)//2:] + a_string[:len(a_string)//2]\n",
    "    return new_string\n",
    "\n",
    "#Below are some lines of code that will test your function.\n",
    "#You can change the value of the variable(s) to test your\n",
    "#function with different inputs.\n",
    "#\n",
    "#If your function works correctly, this will originally\n",
    "#print the results you see in the examples above.\n",
    "\n",
    "string1 = \"abcd\"\n",
    "string2 = \"abcde\"\n",
    "string3 = \"railroad\"\n",
    "string4 = \"fireworks\"\n",
    "print(string1 + \" -> \" + scramble(string1))\n",
    "print(string2 + \" -> \" + scramble(string2))\n",
    "print(string3 + \" -> \" + scramble(string3))\n",
    "print(string4 + \" -> \" + scramble(string4))\n"
   ]
  }
 ],
 "metadata": {
  "kernelspec": {
   "display_name": "Python 3",
   "language": "python",
   "name": "python3"
  },
  "language_info": {
   "codemirror_mode": {
    "name": "ipython",
    "version": 3
   },
   "file_extension": ".py",
   "mimetype": "text/x-python",
   "name": "python",
   "nbconvert_exporter": "python",
   "pygments_lexer": "ipython3",
   "version": "3.8.3"
  }
 },
 "nbformat": 4,
 "nbformat_minor": 4
}
