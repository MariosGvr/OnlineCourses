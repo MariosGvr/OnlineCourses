{
 "cells": [
  {
   "cell_type": "code",
   "execution_count": null,
   "metadata": {},
   "outputs": [],
   "source": [
    "#Recall in Unit 3 you wrote a function that would count the\n",
    "#number of words in a string using loops. Now that you know\n",
    "#something about string methods, though, let's do that again\n",
    "#using a different approach.\n",
    "#\n",
    "#Write a function called \"num_words\" that accepts a string \n",
    "#as an argument and returns the number of words in the \n",
    "#string. You can assume all words are separated by a space,\n",
    "#and that the string has at least one word. You do not need\n",
    "#to worry about punctuation.\n",
    "#\n",
    "#For example:\n",
    "#\n",
    "#  num_words(\"Veni, Vidi, Vici.\") -> 3\n",
    "#\n",
    "#This time, you may not use any loops. Hint: split() might\n",
    "#come in handy.\n",
    "\n",
    "\n",
    "#Write your function here!\n",
    "\n",
    "def num_words(a_string):\n",
    "    list_str = a_string.split( )\n",
    "    return len(list_str)\n",
    "\n",
    "#Below are some lines of code that will test your function.\n",
    "#You can change the value of the variable(s) to test your\n",
    "#function with different inputs.\n",
    "#\n",
    "#If your function works correctly, this will originally\n",
    "#print: 3, 2, 1, each on their own line.\n",
    "print(num_words(\"Vini, Vidi, Vici.\"))\n",
    "print(num_words(\"Hello, world!\"))\n",
    "print(num_words(\"HeyDavidwhyaren'ttherespacesinthissentence\"))\n",
    "\n",
    "\n"
   ]
  }
 ],
 "metadata": {
  "kernelspec": {
   "display_name": "Python 3",
   "language": "python",
   "name": "python3"
  },
  "language_info": {
   "codemirror_mode": {
    "name": "ipython",
    "version": 3
   },
   "file_extension": ".py",
   "mimetype": "text/x-python",
   "name": "python",
   "nbconvert_exporter": "python",
   "pygments_lexer": "ipython3",
   "version": "3.8.3"
  }
 },
 "nbformat": 4,
 "nbformat_minor": 4
}
