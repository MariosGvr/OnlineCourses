{
 "cells": [
  {
   "cell_type": "code",
   "execution_count": null,
   "metadata": {},
   "outputs": [],
   "source": [
    "#We've written the function, sort_with_bubbles, below. It takes\n",
    "#in one list parameter, lst. However, there are two problems in\n",
    "#our current code:\n",
    "# - There's a missing line\n",
    "# - There's a semantic error (the code does not raise an\n",
    "#   error message, but it does not perform correctly)\n",
    "#\n",
    "#Find and fix these problems! Note that you should only need\n",
    "#to change or add code where explicitly indicated.\n",
    "#\n",
    "#Hint: If you're stuck, use an example input list and trace\n",
    "#the code and how it modifies your list on paper. For\n",
    "#example, try writing out what happens to the following list:\n",
    "#\n",
    "#  [34, 16, 2, 78, 4, 6, 1]\n",
    "\n",
    "def sort_with_bubbles(lst):\n",
    "    #Set swap_occurred to True to guarantee the loop runs once\n",
    "    swap_occurred = True\n",
    "    \n",
    "    #Run the loop as long as a swap occurred the previous time\n",
    "    while swap_occurred:\n",
    "        #Start off assuming a swap did not occur\n",
    "        swap_occurred = False\n",
    "        \n",
    "        #For every item in the list except the last one...\n",
    "        for i in range(len(lst) - 1):\n",
    "            #If the item should swap with the next item...\n",
    "            if lst[i] > lst[i + 1]:\n",
    "\n",
    "                #Then, swap them! But these lines aren't\n",
    "                #quite right: fix this code!\n",
    "                temp = lst[i]\n",
    "                lst[i] = lst[i + 1]\n",
    "                lst[i + 1] = temp\n",
    "\n",
    "                #One more line is needed here; add it!\n",
    "                swap_occurred = True\n",
    "\n",
    "    return lst\n",
    "\n",
    "#Below are some lines of code that will test your function.\n",
    "#You can change the value of the variable(s) to test your\n",
    "#function with different inputs.\n",
    "#\n",
    "#If your function works correctly, this will originally\n",
    "#print: [1, 2, 3, 4, 5]\n",
    "print(sort_with_bubbles([5, 3, 1, 2, 4]))\n",
    "\n",
    "\n"
   ]
  }
 ],
 "metadata": {
  "kernelspec": {
   "display_name": "Python 3",
   "language": "python",
   "name": "python3"
  },
  "language_info": {
   "codemirror_mode": {
    "name": "ipython",
    "version": 3
   },
   "file_extension": ".py",
   "mimetype": "text/x-python",
   "name": "python",
   "nbconvert_exporter": "python",
   "pygments_lexer": "ipython3",
   "version": "3.8.3"
  }
 },
 "nbformat": 4,
 "nbformat_minor": 4
}
