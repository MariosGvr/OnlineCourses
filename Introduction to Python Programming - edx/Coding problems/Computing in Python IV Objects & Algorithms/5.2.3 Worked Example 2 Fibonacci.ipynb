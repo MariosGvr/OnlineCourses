{
 "cells": [
  {
   "cell_type": "code",
   "execution_count": null,
   "metadata": {},
   "outputs": [],
   "source": [
    "#Let's implement the Fibonacci function we saw in the\n",
    "#previous video in Python!\n",
    "#\n",
    "#Like our Factorial function, our Fibonacci function\n",
    "#should take as input one parameter, n, an integer. It\n",
    "#should calculate the nth Fibonacci number. For example,\n",
    "#fib(7) should give 13 since the 7th number in\n",
    "#Fibonacci's sequence is 13.\n",
    "\n",
    "#So, our function definition will basically be the same:\n",
    "\n",
    "def fib(n):\n",
    "    #What do we want to do inside the function? Once again,\n",
    "    #there are really only two cases: either we're looking\n",
    "    #for the first two Fibonacci numbers, or we're not.\n",
    "    #What happens if we're looking for the first two? Well,\n",
    "    #we already know that the 1st and 2nd Fibonacci numbers\n",
    "    #are both 1, so if n == 1 or n == 2, we can go ahead\n",
    "    #and return 1.\n",
    "    \n",
    "    if n == 1 or n == 2:\n",
    "        return 1\n",
    "    \n",
    "    #What if n doesn't equal 1? For any value for n greater\n",
    "    #than 2, the result should be the sum of the previous\n",
    "    #two numbers. The previous Fibonacci number could then\n",
    "    #be calculated with the same kind of function call,\n",
    "    #decrementing n by 1 or 2.\n",
    "    \n",
    "    else:\n",
    "        return fib(n - 1) + fib(n - 2)\n",
    "    \n",
    "    #If n is greater than 2, then it returns the sum of the\n",
    "    #previous two fibonacci numbers, as calculated by the\n",
    "    #same function.\n",
    "\n",
    "#Now let's test it out! Run this file to see the results.\n",
    "print(\"fib(5) is\", fib(5))\n",
    "print(\"fib(10) is\", fib(10))\n",
    "\n",
    "#Want to see more about how this works? Select the other\n",
    "#file, FibonacciwithPrints.py, from the drop-down in the\n",
    "#top left to see a version of this that traces the output.\n",
    "\n",
    "\n"
   ]
  }
 ],
 "metadata": {
  "kernelspec": {
   "display_name": "Python 3",
   "language": "python",
   "name": "python3"
  },
  "language_info": {
   "codemirror_mode": {
    "name": "ipython",
    "version": 3
   },
   "file_extension": ".py",
   "mimetype": "text/x-python",
   "name": "python",
   "nbconvert_exporter": "python",
   "pygments_lexer": "ipython3",
   "version": "3.8.3"
  }
 },
 "nbformat": 4,
 "nbformat_minor": 4
}
