{
 "cells": [
  {
   "cell_type": "code",
   "execution_count": null,
   "metadata": {},
   "outputs": [],
   "source": [
    "#Let's implement the factorial function we saw in the\n",
    "#previous video in Python!\n",
    "#\n",
    "#Our factorial function should take as input a number, and\n",
    "#it should return the product of that number times every\n",
    "#number between itself and 1.\n",
    "\n",
    "#Let's start with the function definition. This function\n",
    "#definition creates the function factorial with one\n",
    "#parameter, n.\n",
    "\n",
    "def factorial(n):\n",
    "    #What do we want to do inside the function? Well, there\n",
    "    #are two cases. First, if n is 1, we just want to return\n",
    "    #1. After all, 1! is 1.\n",
    "    \n",
    "    if n == 1:\n",
    "        return 1\n",
    "    \n",
    "    #What if n doesn't equal 1, though? Then we want to\n",
    "    #return n times the factorial of (n - 1). After all,\n",
    "    #5! = 5 * 4!, 4! = 4 * 3!, etc.\n",
    "    \n",
    "    else:\n",
    "        return n * factorial(n - 1)\n",
    "    \n",
    "    #If n is greater than 1, then it multiplies 1 by the\n",
    "    #factorial of n - 1, as calculated with the same\n",
    "    #function. Every time factorial() runs, n decreases\n",
    "    #by 1, which guarantees that eventually, n will equal\n",
    "    #1.\n",
    "\n",
    "#Now let's test it out! Run this file to see the results.\n",
    "print(\"5! is\", factorial(5))\n",
    "print(\"10! is\", factorial(10))\n",
    "\n",
    "#Want to see more about how this works? Select the other\n",
    "#file, FactorialwithPrints.py, from the drop-down in the\n",
    "#top left to see a version of this that traces the output."
   ]
  }
 ],
 "metadata": {
  "kernelspec": {
   "display_name": "Python 3",
   "language": "python",
   "name": "python3"
  },
  "language_info": {
   "codemirror_mode": {
    "name": "ipython",
    "version": 3
   },
   "file_extension": ".py",
   "mimetype": "text/x-python",
   "name": "python",
   "nbconvert_exporter": "python",
   "pygments_lexer": "ipython3",
   "version": "3.8.3"
  }
 },
 "nbformat": 4,
 "nbformat_minor": 4
}
