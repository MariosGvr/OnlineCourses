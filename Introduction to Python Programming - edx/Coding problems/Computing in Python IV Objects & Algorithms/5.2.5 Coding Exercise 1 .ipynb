{
 "cells": [
  {
   "cell_type": "code",
   "execution_count": null,
   "metadata": {},
   "outputs": [],
   "source": [
    "\n",
    "#Write a function called linear() that takes two parameters\n",
    "#- a list of strings and a string. Write this function so\n",
    "#that it returns the first index at which the string is\n",
    "#found within the list if the string is found, or False if\n",
    "#it is not found. You do not need to worry about searching\n",
    "#for the search string inside the individual strings within\n",
    "#the list: for example, linear([\"bobby\", \"fred\"], \"bob\")\n",
    "#should return False, but linear([\"bob\", \"fred\"], \"bob\")\n",
    "#should return 0.\n",
    "#\n",
    "#Use a linear search algorithm (not as scary as it sounds).\n",
    "#Do not use the list method index -- in this exercise,\n",
    "#you're actually implementing the way the index method\n",
    "#works!\n",
    "\n",
    "\n",
    "#Write your code here!\n",
    "def linear(a_list,a_str):\n",
    "    count = -1\n",
    "    found_it = False\n",
    "    for i in a_list:\n",
    "        count += 1\n",
    "        if a_str == i:\n",
    "            found_it = True\n",
    "            \n",
    "            return count\n",
    "            \n",
    "    if found_it == False:\n",
    "        return found_it \n",
    "\n",
    "#Below are some lines of code that will test your function.\n",
    "#You can change the value of the variable(s) to test your\n",
    "#function with different inputs.\n",
    "#\n",
    "#If your function works correctly, this will originally\n",
    "#print: 3\n",
    "a_list = [5, 1, 3, 6, 7, 3, 1, 6, 7, 8, 3, 6]\n",
    "print(linear(a_list, 6))\n",
    "\n",
    "\n",
    "\n"
   ]
  }
 ],
 "metadata": {
  "kernelspec": {
   "display_name": "Python 3",
   "language": "python",
   "name": "python3"
  },
  "language_info": {
   "codemirror_mode": {
    "name": "ipython",
    "version": 3
   },
   "file_extension": ".py",
   "mimetype": "text/x-python",
   "name": "python",
   "nbconvert_exporter": "python",
   "pygments_lexer": "ipython3",
   "version": "3.8.3"
  }
 },
 "nbformat": 4,
 "nbformat_minor": 4
}
