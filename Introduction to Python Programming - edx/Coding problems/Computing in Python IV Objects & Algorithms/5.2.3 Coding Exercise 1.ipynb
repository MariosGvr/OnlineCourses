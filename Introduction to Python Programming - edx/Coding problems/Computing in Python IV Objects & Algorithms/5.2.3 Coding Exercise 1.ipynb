{
 "cells": [
  {
   "cell_type": "code",
   "execution_count": null,
   "metadata": {},
   "outputs": [],
   "source": [
    "#We've written a function below called count_down(). This\n",
    "#function takes an int parameter, start, and prints every\n",
    "#number from that start to 0. The way we've written it uses\n",
    "#recursion. Below that funtion, write a function that does\n",
    "#the exact same thing, but do not use recursion.\n",
    "#\n",
    "#The purpose of this exercise is for you to recognize some\n",
    "#example instances in which you can use recursion, and what\n",
    "#differences can be seen in the actual code.\n",
    "#\n",
    "#Make sure to actually print 0 as the last number!\n",
    "\n",
    "def count_down(start):\n",
    "    #If we've reached 0 already, print 0 but do not call\n",
    "    #another copy\n",
    "    if start <= 0:\n",
    "        print(start)\n",
    "    \n",
    "    #If we haven't reached 0 yet, print the current number,\n",
    "    #then call count_down with the current number minus 1.\n",
    "    else:\n",
    "        print(start)\n",
    "        count_down(start - 1)\n",
    "        \n",
    "#Do not modify the code above.\n",
    "#Fill in the function below to do the same as the function\n",
    "#above, but without recursion. You could use for loops,\n",
    "#while loops, or some other approach.\n",
    "\n",
    "def count_down2(start):\n",
    "    #Add your code here!\n",
    "    result = []\n",
    "    final = \"\"\n",
    "    for num in range(0,start+1):\n",
    "        result.append(num)\n",
    "    result.reverse()\n",
    "    for num in result:\n",
    "        print(num)\n",
    "\n",
    "#Below are some lines of code that will test your function.\n",
    "#You can change the value of the variable(s) to test your\n",
    "#function with different inputs.\n",
    "#\n",
    "#If your function works correctly, this will originally\n",
    "#print: 5, 4, 3, 2, 1, 0, each on their own line.\n",
    "count_down2(5)\n",
    "\n",
    "\n",
    "\n"
   ]
  }
 ],
 "metadata": {
  "kernelspec": {
   "display_name": "Python 3",
   "language": "python",
   "name": "python3"
  },
  "language_info": {
   "codemirror_mode": {
    "name": "ipython",
    "version": 3
   },
   "file_extension": ".py",
   "mimetype": "text/x-python",
   "name": "python",
   "nbconvert_exporter": "python",
   "pygments_lexer": "ipython3",
   "version": "3.8.3"
  }
 },
 "nbformat": 4,
 "nbformat_minor": 4
}
