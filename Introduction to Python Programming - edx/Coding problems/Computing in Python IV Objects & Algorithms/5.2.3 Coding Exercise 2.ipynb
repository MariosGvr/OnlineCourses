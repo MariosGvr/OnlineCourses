{
 "cells": [
  {
   "cell_type": "code",
   "execution_count": null,
   "metadata": {},
   "outputs": [],
   "source": [
    "#We've started a recursive function below called\n",
    "#exponent_calc(). It takes in two integer parameters, base\n",
    "#and expo. It should return the mathematical answer to\n",
    "#base^expo. For example, exponent_calc(5, 3) should return\n",
    "#125: 5^3 = 125.\n",
    "#\n",
    "#The code is almost done - we have our base case written.\n",
    "#We know to stop recursing when we've reached the simplest\n",
    "#form. When the exponent is 0, we return 1, because anything\n",
    "#to the 0 power is 1. But we are missing our recursive call!\n",
    "#\n",
    "#Fill in the marked line with the recursive call necessary\n",
    "#to complete the function. Do not use the double-asterisk\n",
    "#operator for exponentiation. Do not use any loops.\n",
    "#\n",
    "#Hint: Notice the similarity between exponentiation and\n",
    "#factorial:\n",
    "#  4! = 4! = 4 * 3!, 3! = 3 * 2!, 2! = 2 * 1\n",
    "#  2^4 = 2 * 2^3, 2^3 = 2 * 2^2, 2^2 = 2 * 2^1, 2^1 = 2 * 2^0\n",
    "\n",
    "def exponent_calc(base, expo):\n",
    "    if expo == 0:\n",
    "        return 1\n",
    "    else:\n",
    "        return base*exponent_calc(base,expo-1) #Complete this line!\n",
    "\n",
    "#Below are some lines of code that will test your function.\n",
    "#You can change the value of the variable(s) to test your\n",
    "#function with different inputs.\n",
    "#\n",
    "#If your function works correctly, this will originally\n",
    "#print: 125\n",
    "print(exponent_calc(5, 3))\n",
    "\n",
    "\n",
    "\n",
    "\n"
   ]
  }
 ],
 "metadata": {
  "kernelspec": {
   "display_name": "Python 3",
   "language": "python",
   "name": "python3"
  },
  "language_info": {
   "codemirror_mode": {
    "name": "ipython",
    "version": 3
   },
   "file_extension": ".py",
   "mimetype": "text/x-python",
   "name": "python",
   "nbconvert_exporter": "python",
   "pygments_lexer": "ipython3",
   "version": "3.8.3"
  }
 },
 "nbformat": 4,
 "nbformat_minor": 4
}
