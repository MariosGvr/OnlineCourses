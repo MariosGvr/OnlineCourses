{
 "cells": [
  {
   "cell_type": "code",
   "execution_count": null,
   "metadata": {},
   "outputs": [],
   "source": [
    "sunny = True\n",
    "windy = False\n",
    "\n",
    "#You may modify the lines of code above, but don't move them!\n",
    "#When you Submit your code, we'll change these lines to\n",
    "#assign different values to the variables.\n",
    "\n",
    "#Below, we've gone ahead and written some code that uses a\n",
    "#conditional to print a message based on the variables above.\n",
    "#Revise this code so that it uses nested conditionals instead\n",
    "#of the 'and' operator. There should be _no_ instances of the\n",
    "#'and' reserved word in your code, but it should behave the\n",
    "#same as it did originally.\n",
    "\n",
    "if sunny:\n",
    "    if windy:\n",
    "        print(\"Enjoy the breeze!\")    \n",
    "    else:\n",
    "        print(\"Wear a hat!\")\n",
    "        "
   ]
  },
  {
   "cell_type": "code",
   "execution_count": null,
   "metadata": {},
   "outputs": [],
   "source": [
    "entered = \"abc123\"\n",
    "password = \"abc123\"\n",
    "tries = 3\n",
    "\n",
    "#You may modify the lines of code above, but don't move them!\n",
    "#When you Submit your code, we'll change these lines to\n",
    "#assign different values to the variables.\n",
    "\n",
    "#Above we've created three variables representing an attempt\n",
    "#to enter a password. Add some code below that will print the\n",
    "#result of this check:\n",
    "#\n",
    "# - \"Login successful.\" if entered is the same as password\n",
    "#   and tries is less than or equal to 3.\n",
    "# - \"Incorrect password.\" if entered is not the same as \n",
    "#   password, but tries is less than or equal to 3.\n",
    "# - \"Tries exceeded.\" if tries is greater than 3.\n",
    "#\n",
    "#You don't need to worry about incrementing tries if the\n",
    "#password is incorrect.\n",
    "\n",
    "\n",
    "#Add your code here!\n",
    "\n",
    "\n",
    "if tries <=3:\n",
    "    if entered == password:\n",
    "        print(\"Login successful.\")\n",
    "    else:\n",
    "        print(\"Incorrect password.\")\n",
    "else:\n",
    "    print(\"Tries exceeded.\")"
   ]
  }
 ],
 "metadata": {
  "kernelspec": {
   "display_name": "Python 3",
   "language": "python",
   "name": "python3"
  },
  "language_info": {
   "codemirror_mode": {
    "name": "ipython",
    "version": 3
   },
   "file_extension": ".py",
   "mimetype": "text/x-python",
   "name": "python",
   "nbconvert_exporter": "python",
   "pygments_lexer": "ipython3",
   "version": "3.8.3"
  }
 },
 "nbformat": 4,
 "nbformat_minor": 4
}
