{
 "cells": [
  {
   "cell_type": "code",
   "execution_count": null,
   "metadata": {},
   "outputs": [],
   "source": [
    "mystery_int_1 = 15\n",
    "mystery_int_2 = 5\n",
    "\n",
    "#You may modify the lines of code above, but don't move them!\n",
    "#When you Submit your code, we'll change these lines to\n",
    "#assign different values to the variables.\n",
    "\n",
    "#The variables below hold two integers, mystery_int_1 and\n",
    "#mystery_int_2. Complete this program below such that it\n",
    "#prints \"Factors!\" if either of the numbers is a factor of\n",
    "#the other. If neither number is a factor of the other,\n",
    "#do not print anything.\n",
    "#\n",
    "#Hint: You can do this with just one conditional statement\n",
    "#by using the logical expressions we learned earlier (and,\n",
    "#or, and not). You'll also use the modulus operator we\n",
    "#learned in Chapter 2.4.\n",
    "\n",
    "\n",
    "#Add your code here!\n",
    "\n",
    "if (mystery_int_1%mystery_int_2 == 0) or (mystery_int_2%mystery_int_1 == 0):\n",
    "    print(\"Factors!\")\n"
   ]
  }
 ],
 "metadata": {
  "kernelspec": {
   "display_name": "Python 3",
   "language": "python",
   "name": "python3"
  },
  "language_info": {
   "codemirror_mode": {
    "name": "ipython",
    "version": 3
   },
   "file_extension": ".py",
   "mimetype": "text/x-python",
   "name": "python",
   "nbconvert_exporter": "python",
   "pygments_lexer": "ipython3",
   "version": "3.8.3"
  }
 },
 "nbformat": 4,
 "nbformat_minor": 4
}
