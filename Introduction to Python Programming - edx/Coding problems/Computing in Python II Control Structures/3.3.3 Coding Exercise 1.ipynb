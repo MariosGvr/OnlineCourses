{
 "cells": [
  {
   "cell_type": "code",
   "execution_count": null,
   "metadata": {},
   "outputs": [],
   "source": [
    "mystery_string = \"CS1301\"\n",
    "\n",
    "#Write a for-each loop that lists each character in\n",
    "#mystery_string with its index. For example, if the string\n",
    "#was \"David\", the output would be:\n",
    "#0 D\n",
    "#1 a\n",
    "#2 v\n",
    "#3 i\n",
    "#4 d\n",
    "#\n",
    "#Note that the first item is #0, the second is #1, and so\n",
    "#on! We'll talk about why that is in Unit 4.\n",
    "#\n",
    "#Hint: You'll need a separate variable to keep track of how\n",
    "#many letters you've printed! You may not use the range\n",
    "#function on this problem.\n",
    "\n",
    "\n",
    "#Add your code here!\n",
    "\n",
    "count=0\n",
    "for i in mystery_string:\n",
    "    print(count, i)\n",
    "    count+=1"
   ]
  }
 ],
 "metadata": {
  "kernelspec": {
   "display_name": "Python 3",
   "language": "python",
   "name": "python3"
  },
  "language_info": {
   "codemirror_mode": {
    "name": "ipython",
    "version": 3
   },
   "file_extension": ".py",
   "mimetype": "text/x-python",
   "name": "python",
   "nbconvert_exporter": "python",
   "pygments_lexer": "ipython3",
   "version": "3.8.3"
  }
 },
 "nbformat": 4,
 "nbformat_minor": 4
}
