{
 "cells": [
  {
   "cell_type": "code",
   "execution_count": null,
   "metadata": {},
   "outputs": [],
   "source": [
    "#In the designated areas below, write the three for loops\n",
    "#that are described. Do not change the print statements that\n",
    "#are currently there.\n",
    "\n",
    "print(\"First loop:\")\n",
    "for i in range(1,11):\n",
    "    print(i)\n",
    "\n",
    "#Write a loop here that prints the numbers from 1 to 10,\n",
    "#inclusive (meaning that it prints both 1 and 10, and all\n",
    "#the numbers in between). Print each number on a separate\n",
    "#line.\n",
    "\n",
    "\n",
    "print(\"Second loop:\")\n",
    "for i in range(-5 , 6):\n",
    "    print(i)\n",
    "\n",
    "#Write a loop here that prints the numbers from -5 to 5,\n",
    "#inclusive. Print each number on a separate line.\n",
    "\n",
    "\n",
    "print(\"Third loop:\")\n",
    "for i in range(2 , 21,2):\n",
    "    print(i)\n",
    "\n",
    "#Write a loop here that prints the even numbers only from 1\n",
    "#to 20, inclusive. Print each number on a separate line.\n",
    "#\n",
    "#Hint: There are two ways to do this. You can use the syntax\n",
    "#for the range() function shown in the multiple-choice\n",
    "#problem above, or you can use a conditional with a modulus\n",
    "#operator to determine whether or not to print.\n",
    "\n",
    "\n",
    "\n",
    "\n",
    "\n",
    "\n",
    "\n"
   ]
  },
  {
   "cell_type": "code",
   "execution_count": null,
   "metadata": {},
   "outputs": [],
   "source": [
    "mystery_int = 5\n",
    "\n",
    "#You may modify the lines of code above, but don't move them!\n",
    "#When you Submit your code, we'll change these lines to\n",
    "#assign different values to the variables.\n",
    "\n",
    "#In math, factorial is a mathematical operation where an\n",
    "#integer is multipled by every number between itself and 1.\n",
    "#For example, 5 factorial is 5 * 4 * 3 * 2 * 1, or 120.\n",
    "#Factorial is represented by an exclamation point: 5!\n",
    "#\n",
    "#Use a for loop to calculate the factorial of the number\n",
    "#given by mystery_int above. Then, print the result.\n",
    "#\n",
    "#Hint: Running a loop from 1 to mystery_int will give you\n",
    "#all the integers you need to multiply together. You'll need\n",
    "#to track the total product using a variable declared before\n",
    "#starting the loop, though!\n",
    "\n",
    "\n",
    "#Add your code here!\n",
    "mult=1\n",
    "for i in range(1 , mystery_int +1):\n",
    "    mult *= i \n",
    "print(mult)\n"
   ]
  }
 ],
 "metadata": {
  "kernelspec": {
   "display_name": "Python 3",
   "language": "python",
   "name": "python3"
  },
  "language_info": {
   "codemirror_mode": {
    "name": "ipython",
    "version": 3
   },
   "file_extension": ".py",
   "mimetype": "text/x-python",
   "name": "python",
   "nbconvert_exporter": "python",
   "pygments_lexer": "ipython3",
   "version": "3.8.3"
  }
 },
 "nbformat": 4,
 "nbformat_minor": 4
}
