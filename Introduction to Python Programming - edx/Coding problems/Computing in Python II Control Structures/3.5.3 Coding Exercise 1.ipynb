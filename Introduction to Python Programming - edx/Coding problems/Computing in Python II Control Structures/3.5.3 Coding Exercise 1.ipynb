{
 "cells": [
  {
   "cell_type": "code",
   "execution_count": null,
   "metadata": {},
   "outputs": [],
   "source": [
    "mystery_value = \"9\"\n",
    "\n",
    "#You may modify the lines of code above, but don't move them!\n",
    "#When you Submit your code, we'll change these lines to\n",
    "#assign different values to the variables.\n",
    "\n",
    "#Create a program that divides 10 by mystery_value and prints\n",
    "#the result. In the case that an error occurs, print \"Not\n",
    "#possible\".\n",
    "#\n",
    "#Use error handling to determine if an error will occur; do\n",
    "#not use the type() function. You might be surprised how many\n",
    "#types Python can divide by 10!\n",
    "\n",
    "\n",
    "#Add your code here!\n",
    "\n",
    "\n",
    "try:\n",
    "    value = 10/mystery_value\n",
    "    print(value)\n",
    "except:\n",
    "    print(\"Not possible\")"
   ]
  }
 ],
 "metadata": {
  "kernelspec": {
   "display_name": "Python 3",
   "language": "python",
   "name": "python3"
  },
  "language_info": {
   "codemirror_mode": {
    "name": "ipython",
    "version": 3
   },
   "file_extension": ".py",
   "mimetype": "text/x-python",
   "name": "python",
   "nbconvert_exporter": "python",
   "pygments_lexer": "ipython3",
   "version": "3.8.3"
  }
 },
 "nbformat": 4,
 "nbformat_minor": 4
}
