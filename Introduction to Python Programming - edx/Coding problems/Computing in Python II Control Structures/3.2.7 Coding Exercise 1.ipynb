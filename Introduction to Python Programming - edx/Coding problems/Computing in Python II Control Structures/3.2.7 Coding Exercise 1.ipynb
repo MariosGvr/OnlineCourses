{
 "cells": [
  {
   "cell_type": "code",
   "execution_count": null,
   "metadata": {},
   "outputs": [],
   "source": [
    "mood = \"impatient\"\n",
    "\n",
    "#You may modify the lines of code above, but don't move them!\n",
    "#When you Submit your code, we'll change these lines to\n",
    "#assign different values to the variables.\n",
    "\n",
    "#We've written some code below that prints out what kind of\n",
    "#tea we want to  buy based on our mood. The code has an error,\n",
    "#though. Rewrite the code so that it runs with the correct\n",
    "#output.\n",
    "#\n",
    "#The correct output if mood is one of the expected moods\n",
    "#(sad, anxious, tired) is the name of the tea and the cost.\n",
    "#The correct output if mood is not one of the expected moods\n",
    "#is None and \"free\".\n",
    "#\n",
    "#Hint: this is a scope problem!\n",
    "\n",
    "cost=0\n",
    "if mood == \"sad\":\n",
    "    tea = \"oolong\"\n",
    "    cost = 3.99\n",
    "elif mood == \"anxious\":\n",
    "    tea = \"green tea\"\n",
    "    cost = 5.45\n",
    "elif mood == \"tired\":\n",
    "    tea = \"english breakfast\"\n",
    "    cost = 4.35\n",
    "else:\n",
    "    tea = None\n",
    "\n",
    "if cost == 0:\n",
    "    cost = \"free\"\n",
    "print(tea)\n",
    "print(cost)"
   ]
  }
 ],
 "metadata": {
  "kernelspec": {
   "display_name": "Python 3",
   "language": "python",
   "name": "python3"
  },
  "language_info": {
   "codemirror_mode": {
    "name": "ipython",
    "version": 3
   },
   "file_extension": ".py",
   "mimetype": "text/x-python",
   "name": "python",
   "nbconvert_exporter": "python",
   "pygments_lexer": "ipython3",
   "version": "3.8.3"
  }
 },
 "nbformat": 4,
 "nbformat_minor": 4
}
