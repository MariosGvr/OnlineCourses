{
 "cells": [
  {
   "cell_type": "code",
   "execution_count": null,
   "metadata": {},
   "outputs": [],
   "source": [
    "#Write a function called has_a_vowel. has_a_vowel should have\n",
    "#one parameter, a string. It should return True if the string\n",
    "#has any vowels in it, False if it does not.\n",
    "\n",
    "\n",
    "def has_a_vowel(a_str):\n",
    "    count = 0\n",
    "    for letter in a_str:\n",
    "        if letter in \"aeiou\":\n",
    "            return True\n",
    "        \n",
    "\n",
    "    if len(a_str) == 0:\n",
    "        return False\n",
    "    for letter in a_str:\n",
    "        if letter not in \"aeiou\":\n",
    "            count += 1\n",
    "            if count == len(a_str):\n",
    "                return False\n",
    "    print(\"Done!\")\n",
    "    \n",
    "#Below are some lines of code that will test your function.\n",
    "#You can change the value of the variable(s) to test your\n",
    "#function with different inputs.\n",
    "#\n",
    "#If your function works correctly, this will originally\n",
    "#print: True, then True, then False, then False, each on\n",
    "#its own line.\n",
    "print(has_a_vowel(\"abba\"))\n",
    "print(has_a_vowel(\"beeswax\"))\n",
    "print(has_a_vowel(\"syzygy\"))\n",
    "print(has_a_vowel(\"\"))\n",
    "\n",
    "\n"
   ]
  }
 ],
 "metadata": {
  "kernelspec": {
   "display_name": "Python 3",
   "language": "python",
   "name": "python3"
  },
  "language_info": {
   "codemirror_mode": {
    "name": "ipython",
    "version": 3
   },
   "file_extension": ".py",
   "mimetype": "text/x-python",
   "name": "python",
   "nbconvert_exporter": "python",
   "pygments_lexer": "ipython3",
   "version": "3.8.3"
  }
 },
 "nbformat": 4,
 "nbformat_minor": 4
}
