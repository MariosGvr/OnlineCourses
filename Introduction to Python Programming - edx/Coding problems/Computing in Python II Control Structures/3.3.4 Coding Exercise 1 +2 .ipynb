{
 "cells": [
  {
   "cell_type": "code",
   "execution_count": null,
   "metadata": {},
   "outputs": [],
   "source": [
    "mystery_value = 87\n",
    "\n",
    "#You may modify the lines of code above, but don't move them!\n",
    "#When you Submit your code, we'll change these lines to\n",
    "#assign different values to the variables.\n",
    "\n",
    "#Write a while loop that continues to add 9 to mystery_value\n",
    "#until mystery_value is greater than 100. Each time 9 is\n",
    "#added, print the *new* value of mystery_value. For example,\n",
    "#with mystery_value = 87, your code should print 96 and 105.\n",
    "\n",
    "\n",
    "#Add your code here!\n",
    "\n",
    "while mystery_value <= 100:\n",
    "    mystery_value += 9\n",
    "    print(mystery_value)\n",
    "\n",
    "\n",
    "\n"
   ]
  },
  {
   "cell_type": "code",
   "execution_count": null,
   "metadata": {},
   "outputs": [],
   "source": [
    "mystery_int_1 = 3\n",
    "mystery_int_2 = 4\n",
    "mystery_int_3 = 5\n",
    "\n",
    "#You may modify the lines of code above, but don't move them!\n",
    "#When you Submit your code, we'll change these lines to\n",
    "#assign different values to the variables.\n",
    "\n",
    "#Above are three values. Run a while loop until all three\n",
    "#values are less than or equal to 0. Every time you change\n",
    "#the value of the three variables, print out their new values\n",
    "#all on the same line, separated by single spaces. For\n",
    "#example, if their values were 3, 4, and 5 respectively, your\n",
    "#code would print:\n",
    "#\n",
    "#2 3 4\n",
    "#1 2 3\n",
    "#0 1 2\n",
    "#-1 0 1\n",
    "#-2 -1 0\n",
    "\n",
    "\n",
    "#Add your code here!\n",
    "\n",
    "\n",
    "while mystery_int_1>0 or mystery_int_2>0 or mystery_int_3>0:\n",
    "    mystery_int_1 -=1\n",
    "    mystery_int_2 -=1\n",
    "    mystery_int_3 -=1\n",
    "    print (mystery_int_1, mystery_int_2, mystery_int_3)"
   ]
  }
 ],
 "metadata": {
  "kernelspec": {
   "display_name": "Python 3",
   "language": "python",
   "name": "python3"
  },
  "language_info": {
   "codemirror_mode": {
    "name": "ipython",
    "version": 3
   },
   "file_extension": ".py",
   "mimetype": "text/x-python",
   "name": "python",
   "nbconvert_exporter": "python",
   "pygments_lexer": "ipython3",
   "version": "3.8.3"
  }
 },
 "nbformat": 4,
 "nbformat_minor": 4
}
