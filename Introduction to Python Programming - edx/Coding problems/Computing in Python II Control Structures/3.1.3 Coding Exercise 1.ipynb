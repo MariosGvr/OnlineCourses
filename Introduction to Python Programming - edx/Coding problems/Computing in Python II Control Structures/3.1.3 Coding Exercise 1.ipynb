{
 "cells": [
  {
   "cell_type": "code",
   "execution_count": null,
   "metadata": {},
   "outputs": [],
   "source": [
    "mystery_value = 1\n",
    "\n",
    "#You may modify the lines of code above, but don't move them!\n",
    "#When you Submit your code, we'll change these lines to\n",
    "#assign different values to the variables.\n",
    "\n",
    "#All of the indentation has been removed from this program. \n",
    "#Fix the program by correcting the indentation levels. Note\n",
    "#that you should add indentation by adding FOUR SPACES to the\n",
    "#start of the lines you want to indent. If you use Tab, you\n",
    "#will receive an IndentationError in your output.\n",
    "#\n",
    "\n",
    "\n",
    "if mystery_value > 0:\n",
    "print(\"This line should only run if 'mystery_value' is GREATER than 0.\")\n",
    "print(\"This line should only be printed if the above line is printed.\")\n",
    "print(\"This line should always be printed.\")\n",
    "if 0 > mystery_value:\n",
    "print(\"This line should only run if 'mystery_value' is LESS than 0.\")\n",
    "print(\"This line should always be printed.\\n\")\n"
   ]
  }
 ],
 "metadata": {
  "kernelspec": {
   "display_name": "Python 3",
   "language": "python",
   "name": "python3"
  },
  "language_info": {
   "codemirror_mode": {
    "name": "ipython",
    "version": 3
   },
   "file_extension": ".py",
   "mimetype": "text/x-python",
   "name": "python",
   "nbconvert_exporter": "python",
   "pygments_lexer": "ipython3",
   "version": "3.8.3"
  }
 },
 "nbformat": 4,
 "nbformat_minor": 4
}
