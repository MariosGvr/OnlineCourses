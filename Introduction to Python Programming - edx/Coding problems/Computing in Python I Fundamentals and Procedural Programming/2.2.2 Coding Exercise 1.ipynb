{
 "cells": [
  {
   "cell_type": "code",
   "execution_count": null,
   "metadata": {},
   "outputs": [],
   "source": [
    "#Create four variables named my_integer, my_decimal,\n",
    "#my_string, and my_boolean. Assign to each variable a value\n",
    "#of the corresponding type (an integer for my_integer, a\n",
    "#string of characters for my_string, etc.). You can choose\n",
    "#whatever values you want -- just make sure the variable\n",
    "#names and types are correct!\n",
    "#\n",
    "#Note that your code should *not* print anything. The only\n",
    "#printing should come from the last four lines of this\n",
    "#starter code.\n",
    "\n",
    "#Put your code here!\n",
    "my_integer = 27\n",
    "my_decimal = 2.7\n",
    "my_string = \"this is a string\"\n",
    "my_boolean = True\n",
    "\n",
    "\n",
    "#Don't modify these next lines! They're used for grading, and\n",
    "#if they aren't present exactly as they appear below, your\n",
    "#submission will fail!\n",
    "print(type(my_integer))\n",
    "print(type(my_decimal))\n",
    "print(type(my_string))\n",
    "print(type(my_boolean))\n"
   ]
  }
 ],
 "metadata": {
  "kernelspec": {
   "display_name": "Python 3",
   "language": "python",
   "name": "python3"
  },
  "language_info": {
   "codemirror_mode": {
    "name": "ipython",
    "version": 3
   },
   "file_extension": ".py",
   "mimetype": "text/x-python",
   "name": "python",
   "nbconvert_exporter": "python",
   "pygments_lexer": "ipython3",
   "version": "3.8.3"
  }
 },
 "nbformat": 4,
 "nbformat_minor": 4
}
