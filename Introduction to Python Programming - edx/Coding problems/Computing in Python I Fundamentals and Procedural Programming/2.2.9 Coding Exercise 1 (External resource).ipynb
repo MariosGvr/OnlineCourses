{
 "cells": [
  {
   "cell_type": "code",
   "execution_count": 9,
   "metadata": {},
   "outputs": [
    {
     "name": "stdout",
     "output_type": "stream",
     "text": [
      "2020-10-23\n",
      "2020-10-23 11:50:13.329456\n",
      "2020/10/23\n",
      "11:50:13\n"
     ]
    }
   ],
   "source": [
    "#Complete the code below. We've gone ahead and created\n",
    "#variables for the current date and current time. Now,\n",
    "#we want to print date with the format year/month/day,\n",
    "#and the time with the format hour:minute:second.\n",
    "\n",
    "from datetime import date\n",
    "import datetime\n",
    "todays_date = date.today()\n",
    "current_time = datetime.datetime.now()\n",
    "\n",
    "#print(todays_date)\n",
    "#print(current_time)\n",
    "#Don't modify the code above!\n",
    "\n",
    "#Complete the line below to print today's date with the\n",
    "#form year/month/day. For example, January 15th, 2016\n",
    "#would be 2016/1/15.\n",
    "print(str(todays_date.year) + \"/\" + str(todays_date.month) + \"/\" + str(todays_date.day))\n",
    "\n",
    "#Complete the line below to print the current time with\n",
    "#the form hour:minute:second, such as 12:57:15. Don't worry\n",
    "#about the leading 0s for single-digit times. If it's\n",
    "#1:05PM and 7 seconds, the correct answer would be:\n",
    "#13:5:7 (13 because Python uses 24-hour timeby default).\n",
    "print(str(current_time.hour) + \":\" + str(current_time.minute) + \":\" + str(current_time.second))"
   ]
  },
  {
   "cell_type": "code",
   "execution_count": null,
   "metadata": {},
   "outputs": [],
   "source": []
  }
 ],
 "metadata": {
  "kernelspec": {
   "display_name": "Python 3",
   "language": "python",
   "name": "python3"
  },
  "language_info": {
   "codemirror_mode": {
    "name": "ipython",
    "version": 3
   },
   "file_extension": ".py",
   "mimetype": "text/x-python",
   "name": "python",
   "nbconvert_exporter": "python",
   "pygments_lexer": "ipython3",
   "version": "3.8.3"
  }
 },
 "nbformat": 4,
 "nbformat_minor": 4
}
