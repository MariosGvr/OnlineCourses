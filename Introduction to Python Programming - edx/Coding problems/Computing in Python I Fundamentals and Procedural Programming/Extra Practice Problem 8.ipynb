{
 "cells": [
  {
   "cell_type": "code",
   "execution_count": 3,
   "metadata": {},
   "outputs": [
    {
     "name": "stdout",
     "output_type": "stream",
     "text": [
      "Fifties: 0\n",
      "Twenties: 0\n",
      "Tens: 1\n",
      "Fives: 1\n",
      "Ones: 2\n"
     ]
    }
   ],
   "source": [
    "amount = 17\n",
    "\n",
    "#You may modify the lines of code above, but don't move them!\n",
    "#When you Submit your code, we'll change these lines to\n",
    "#assign different values to the variables.\n",
    "#\n",
    "#The variable above describes an amount of money measured in\n",
    "#dollars. Imagine you want to select the bills (1-dollar bills,\n",
    "#5-dollar bills, 10-dollar bills, etc.) that make up that\n",
    "#amount of money. For example, 17 dollars is one $10, one $5,\n",
    "#and two $1s.\n",
    "#\n",
    "#Write a program that will print out the bills needed to\n",
    "#arrive at the amount shown above. Assume that we always want\n",
    "#the maximum number of large bills: for example, for 17 dollars,\n",
    "#we want one $10, one $5, and two $1s, not three $5s and two $1s.\n",
    "#You may assume that the largest bill you have on hand is a\n",
    "#$50-dollar bill.\n",
    "#\n",
    "#Your code should print the following (with the correct numbers\n",
    "#based on the value of amount):\n",
    "#\n",
    "#Fifties: 0\n",
    "#Twenties: 0\n",
    "#Tens: 1\n",
    "#Fives: 1\n",
    "#Ones: 2\n",
    "\n",
    "\n",
    "#Add your code here!\n",
    "fifties= 0\n",
    "twenties= 0\n",
    "tens= 0\n",
    "fives= 0\n",
    "ones= 0\n",
    "\n",
    "rest = amount\n",
    "while rest > 0:\n",
    "    if (rest / 50) >=1:\n",
    "        fifties = rest // 50\n",
    "        rest = rest % 50\n",
    "        continue\n",
    "    elif (rest / 20) >=1:\n",
    "        twenties = rest // 20\n",
    "        rest = rest % 20\n",
    "        continue\n",
    "    elif (rest / 10) >=1:\n",
    "        tens = rest // 10\n",
    "        rest = rest % 10\n",
    "        continue\n",
    "    elif (rest / 5) >=1:\n",
    "        fives = rest // 5\n",
    "        rest = rest % 5\n",
    "        continue\n",
    "    elif (rest / 1) >=1:\n",
    "        ones = rest\n",
    "        rest = rest % 1\n",
    "        continue\n",
    "\n",
    "print(\"Fifties:\", fifties)\n",
    "print(\"Twenties:\", twenties)\n",
    "print(\"Tens:\", tens)\n",
    "print(\"Fives:\", fives)\n",
    "print(\"Ones:\", ones)\n",
    "\n"
   ]
  },
  {
   "cell_type": "code",
   "execution_count": null,
   "metadata": {},
   "outputs": [],
   "source": []
  }
 ],
 "metadata": {
  "kernelspec": {
   "display_name": "Python 3",
   "language": "python",
   "name": "python3"
  },
  "language_info": {
   "codemirror_mode": {
    "name": "ipython",
    "version": 3
   },
   "file_extension": ".py",
   "mimetype": "text/x-python",
   "name": "python",
   "nbconvert_exporter": "python",
   "pygments_lexer": "ipython3",
   "version": "3.8.3"
  }
 },
 "nbformat": 4,
 "nbformat_minor": 4
}
