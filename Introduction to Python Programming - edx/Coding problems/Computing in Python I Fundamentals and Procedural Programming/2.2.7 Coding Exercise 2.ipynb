{
 "cells": [
  {
   "cell_type": "code",
   "execution_count": 1,
   "metadata": {},
   "outputs": [
    {
     "name": "stdout",
     "output_type": "stream",
     "text": [
      "5 <class 'int'>\n",
      "5.0 <class 'float'>\n",
      "True <class 'bool'>\n"
     ]
    }
   ],
   "source": [
    "#In the code below, three strings are created. Only one can be\n",
    "#converted to all three data types we're covering here (integers,\n",
    "#floats, and booleans). Create three new variables called\n",
    "#as_integer, as_float, and as_boolean, select the only variable\n",
    "#that can be converted to all three, and convert it.\n",
    "#\n",
    "#Hint: Python lets you convert anything to a boolean. It\n",
    "#interprets any non-empty string or non-zero number as True, and\n",
    "#any empty string or number 0 as False.\n",
    "\n",
    "a = \"5.1\"\n",
    "b = \"Hello!\"\n",
    "c = \"5\"\n",
    "\n",
    "####Add your code here!####\n",
    "\n",
    "as_integer = int(c)\n",
    "as_float = float(c)\n",
    "as_boolean = bool(c)\n",
    "\n",
    "\n",
    "#The lines of code below will test your submission! If it's\n",
    "#working, it will print the value three times, followed by three\n",
    "#different types: <class 'int'>, <class 'float'>, and\n",
    "#<class 'bool'>.\n",
    "print(as_integer, type(as_integer))\n",
    "print(as_float, type(as_float))\n",
    "print(as_boolean, type(as_boolean))"
   ]
  },
  {
   "cell_type": "code",
   "execution_count": null,
   "metadata": {},
   "outputs": [],
   "source": []
  }
 ],
 "metadata": {
  "kernelspec": {
   "display_name": "Python 3",
   "language": "python",
   "name": "python3"
  },
  "language_info": {
   "codemirror_mode": {
    "name": "ipython",
    "version": 3
   },
   "file_extension": ".py",
   "mimetype": "text/x-python",
   "name": "python",
   "nbconvert_exporter": "python",
   "pygments_lexer": "ipython3",
   "version": "3.8.3"
  }
 },
 "nbformat": 4,
 "nbformat_minor": 4
}
