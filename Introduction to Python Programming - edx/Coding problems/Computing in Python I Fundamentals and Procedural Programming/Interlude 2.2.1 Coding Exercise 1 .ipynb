{
 "cells": [
  {
   "cell_type": "code",
   "execution_count": 4,
   "metadata": {},
   "outputs": [
    {
     "name": "stdout",
     "output_type": "stream",
     "text": [
      "2\n",
      "5\n",
      "We're done!\n"
     ]
    }
   ],
   "source": [
    "#The code below tries to calculate the quotient and remainder\n",
    "#of a pair of numbers. However, right now None is printing\n",
    "#in several places throughout the code's execution. Fix the\n",
    "#code so that it behaves as intended: it should print the\n",
    "#quotient, remainder, then the message, \"We're done!\"\n",
    "#\n",
    "#HINT: There are a couple ways to do this, and some of those\n",
    "#ways might be a little advanced right now. Note that 17 // 6\n",
    "#will correctly calculate the quotient and num_1 % num_2 will\n",
    "#correctly calculate the remainder.\n",
    "#\n",
    "#HINT 2: Click Reset to start over from scratch.\n",
    "\n",
    "num_1 = 17\n",
    "num_2 = 6\n",
    "\n",
    "\n",
    "print(\"The quotient is\", num_1 // num_2)\n",
    "\n",
    "print(\"The remainder is\", num_1 % num_2)\n",
    "\n",
    "print(\"We're done!\")"
   ]
  },
  {
   "cell_type": "code",
   "execution_count": null,
   "metadata": {},
   "outputs": [],
   "source": []
  }
 ],
 "metadata": {
  "kernelspec": {
   "display_name": "Python 3",
   "language": "python",
   "name": "python3"
  },
  "language_info": {
   "codemirror_mode": {
    "name": "ipython",
    "version": 3
   },
   "file_extension": ".py",
   "mimetype": "text/x-python",
   "name": "python",
   "nbconvert_exporter": "python",
   "pygments_lexer": "ipython3",
   "version": "3.8.3"
  }
 },
 "nbformat": 4,
 "nbformat_minor": 4
}
