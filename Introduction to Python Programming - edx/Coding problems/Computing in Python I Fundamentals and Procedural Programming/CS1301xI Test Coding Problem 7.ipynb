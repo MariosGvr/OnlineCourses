{
 "cells": [
  {
   "cell_type": "code",
   "execution_count": 2,
   "metadata": {},
   "outputs": [
    {
     "name": "stdout",
     "output_type": "stream",
     "text": [
      "2222222222222222\n"
     ]
    }
   ],
   "source": [
    "num = 4\n",
    "\n",
    "#You may modify the lines of code above, but don't move them!\n",
    "#When you Submit your code, we'll change these lines to\n",
    "#assign different values to the variables.\n",
    "\n",
    "#Write some code that calculates the square and the square root\n",
    "#of the number given above. Then, it should print the root the\n",
    "#square number of times. If the square root is a decimal,\n",
    "#round it down (you can do this by converting the decimal to\n",
    "#an integer: Python will automatically round it down).\n",
    "#\n",
    "#For example, if num is 4, then your code would print:\n",
    "#\n",
    "# 2222222222222222\n",
    "#\n",
    "#That's 2 16 times. 4 squared is 16, the square root of 4 is 2,\n",
    "#and so it prints 2 16 times.\n",
    "#\n",
    "#For another example: if num is 13, then 13 squared is 169, and\n",
    "#the square root of 13 is ~3.6. 3.6 rounds down to 3. So, it would\n",
    "#print 3 169 times.\n",
    "\n",
    "\n",
    "#Add your code here!\n",
    "square= num**2\n",
    "square_root = num**(1/2)\n",
    "square_root = str(int(square_root))\n",
    "print(square_root*square)\n"
   ]
  },
  {
   "cell_type": "code",
   "execution_count": null,
   "metadata": {},
   "outputs": [],
   "source": []
  }
 ],
 "metadata": {
  "kernelspec": {
   "display_name": "Python 3",
   "language": "python",
   "name": "python3"
  },
  "language_info": {
   "codemirror_mode": {
    "name": "ipython",
    "version": 3
   },
   "file_extension": ".py",
   "mimetype": "text/x-python",
   "name": "python",
   "nbconvert_exporter": "python",
   "pygments_lexer": "ipython3",
   "version": "3.8.3"
  }
 },
 "nbformat": 4,
 "nbformat_minor": 4
}
