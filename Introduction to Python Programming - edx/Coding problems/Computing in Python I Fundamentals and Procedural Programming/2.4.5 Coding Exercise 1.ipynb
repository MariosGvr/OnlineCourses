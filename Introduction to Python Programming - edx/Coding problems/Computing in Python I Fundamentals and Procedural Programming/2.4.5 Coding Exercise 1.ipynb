{
 "cells": [
  {
   "cell_type": "code",
   "execution_count": null,
   "metadata": {},
   "outputs": [],
   "source": [
    "balance = 20.0\n",
    "price = 19.0\n",
    "sales_tax_rate = 1.06\n",
    "\n",
    "#You may modify the lines of code above, but don't move them!\n",
    "#When you Submit your code, we'll change these lines to\n",
    "#assign different values to the variables.\n",
    "\n",
    "#Remember last chapter when we were writing a little program\n",
    "#to check if a person has enough money in their account to\n",
    "#make a certain purchase. At the time, we just checked their\n",
    "#balance, the price, and possibly overdraft protection.\n",
    "#\n",
    "#Now, let's add sales tax. To find the actual purchase cost,\n",
    "#we need to multiply the price by the sales tax rate.\n",
    "#\n",
    "#Write some code below that will print True if balance is\n",
    "#big enough to make a purchase with the given price and sales\n",
    "#tax rate, False if it is not.\n",
    "\n",
    "\n",
    "#Add your code here!\n",
    "purchase_cost = price * sales_tax_rate\n",
    "print(balance >= purchase_cost)"
   ]
  }
 ],
 "metadata": {
  "kernelspec": {
   "display_name": "Python 3",
   "language": "python",
   "name": "python3"
  },
  "language_info": {
   "codemirror_mode": {
    "name": "ipython",
    "version": 3
   },
   "file_extension": ".py",
   "mimetype": "text/x-python",
   "name": "python",
   "nbconvert_exporter": "python",
   "pygments_lexer": "ipython3",
   "version": "3.8.3"
  }
 },
 "nbformat": 4,
 "nbformat_minor": 4
}
