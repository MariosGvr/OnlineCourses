{
 "cells": [
  {
   "cell_type": "code",
   "execution_count": null,
   "metadata": {},
   "outputs": [],
   "source": [
    "from datetime import time\n",
    "from datetime import date\n",
    "mystery_string_1 = \"Hello, world\"\n",
    "mystery_string_2 = \"Hello, world\"\n",
    "mystery_date_1 = date(2017, 1, 15)\n",
    "mystery_date_2 = date(2017, 1, 15)\n",
    "mystery_time_1 = time(12, 45)\n",
    "mystery_time_2 = time(12, 45)\n",
    "\n",
    "#You may modify the lines of code above, but don't move them!\n",
    "#When you Submit your code, we'll change these lines to\n",
    "#assign different values to the variables.\n",
    "#\n",
    "#Add code below to print whether or not mystery_string_1 and\n",
    "#mystery_string_2 are equal, whether or not mystery_date_1\n",
    "#and mystery_date_2 are equal, and whether or not\n",
    "#mystery_time_1 and mystery_time_2 are equal.\n",
    "\n",
    "result_string = (mystery_string_1 == mystery_string_2)\n",
    "print(result_string)\n",
    "\n",
    "result_date = (mystery_date_1 == mystery_date_2)\n",
    "print(result_date)\n",
    "\n",
    "result_time = (mystery_time_1 == mystery_time_2)\n",
    "print(result_time)\n",
    "#Write your code here! When you Run your code, it should print\n",
    "#True, True, True. When you submit your code, we'll test it\n",
    "#with other input as well!\n"
   ]
  }
 ],
 "metadata": {
  "kernelspec": {
   "display_name": "Python 3",
   "language": "python",
   "name": "python3"
  },
  "language_info": {
   "codemirror_mode": {
    "name": "ipython",
    "version": 3
   },
   "file_extension": ".py",
   "mimetype": "text/x-python",
   "name": "python",
   "nbconvert_exporter": "python",
   "pygments_lexer": "ipython3",
   "version": "3.8.3"
  }
 },
 "nbformat": 4,
 "nbformat_minor": 4
}
