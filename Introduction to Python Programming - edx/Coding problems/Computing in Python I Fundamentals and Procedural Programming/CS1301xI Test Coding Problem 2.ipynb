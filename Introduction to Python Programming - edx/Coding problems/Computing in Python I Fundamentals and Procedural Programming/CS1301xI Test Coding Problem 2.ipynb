{
 "cells": [
  {
   "cell_type": "code",
   "execution_count": null,
   "metadata": {},
   "outputs": [],
   "source": [
    "hot = True\n",
    "cold = False\n",
    "morning = True\n",
    "evening = False\n",
    "night = False\n",
    "\n",
    "#You may modify the lines of code above, but don't move them!\n",
    "#When you Submit your code, we'll change these lines to\n",
    "#assign different values to the variables.\n",
    "\n",
    "#Write a program that will recommend a meal based on the\n",
    "#current weather and time of day. Specifically, the program\n",
    "#should recommend:\n",
    "#\n",
    "# - soup if it's cold and either evening or night\n",
    "# - a biscuit if it's morning and cold\n",
    "# - cereal if it's morning and hot, or whenever the time is\n",
    "#   night\n",
    "# - pizza whenever it's either evening or night\n",
    "#\n",
    "#Write some code below that will print four lines, one for\n",
    "#each of the four meals. The lines should look like this:\n",
    "#\n",
    "#Soup: False\n",
    "#Biscuit: False\n",
    "#Cereal: True\n",
    "#Pizza: False\n",
    "#\n",
    "#The values (True and False) will differ based on the\n",
    "#values assigned to hot, cold, morning, evening, and night\n",
    "#at the start of the program.\n",
    "\n",
    "\n",
    "#Add your code here!\n",
    "result_soup = cold and (evening or night)\n",
    "print(\"Soup:\", result_soup)\n",
    "\n",
    "result_biscuit = morning and cold\n",
    "print(\"Biscuit:\", result_biscuit)\n",
    "\n",
    "result_cereal = (morning and hot) or night\n",
    "print(\"Cereal:\", result_cereal)\n",
    "\n",
    "result_pizza = evening or night\n",
    "print(\"Pizza:\", result_pizza)"
   ]
  }
 ],
 "metadata": {
  "kernelspec": {
   "display_name": "Python 3",
   "language": "python",
   "name": "python3"
  },
  "language_info": {
   "codemirror_mode": {
    "name": "ipython",
    "version": 3
   },
   "file_extension": ".py",
   "mimetype": "text/x-python",
   "name": "python",
   "nbconvert_exporter": "python",
   "pygments_lexer": "ipython3",
   "version": "3.8.3"
  }
 },
 "nbformat": 4,
 "nbformat_minor": 4
}
