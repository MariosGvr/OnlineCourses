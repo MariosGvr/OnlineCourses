{
 "cells": [
  {
   "cell_type": "code",
   "execution_count": 3,
   "metadata": {},
   "outputs": [
    {
     "name": "stdout",
     "output_type": "stream",
     "text": [
      "272727272727272727\n"
     ]
    }
   ],
   "source": [
    "num = 3\n",
    "\n",
    "#-----------------------------------------------------------\n",
    "#You may modify the lines of code above, but don't move them!\n",
    "#When you Submit your code, we'll change these lines to\n",
    "#assign different values to the variables.\n",
    "\n",
    "#Write some code that calculates the cube of the number\n",
    "#given by num. Then, print that number num^2 (num squared)\n",
    "#times in a row, with no spaces or line breaks in between.\n",
    "#\n",
    "#For example, if num is 3, then your code would print:\n",
    "#\n",
    "# 272727272727272727\n",
    "#\n",
    "#That 27 9 times. 3 squared is 9, 3 cubed is 27, and so\n",
    "#it prints 27 9 times.\n",
    "#\n",
    "#Note: these directions are slightly different from the\n",
    "#preview we posted! You should be printing num^3 num^2\n",
    "#times, not printing num^2 num^3 times.\n",
    "\n",
    "\n",
    "#Add your code here!\n",
    "cube = num**3\n",
    "times = num**2\n",
    "result = str(cube) * times\n",
    "print(result)"
   ]
  },
  {
   "cell_type": "code",
   "execution_count": null,
   "metadata": {},
   "outputs": [],
   "source": []
  }
 ],
 "metadata": {
  "kernelspec": {
   "display_name": "Python 3",
   "language": "python",
   "name": "python3"
  },
  "language_info": {
   "codemirror_mode": {
    "name": "ipython",
    "version": 3
   },
   "file_extension": ".py",
   "mimetype": "text/x-python",
   "name": "python",
   "nbconvert_exporter": "python",
   "pygments_lexer": "ipython3",
   "version": "3.8.3"
  }
 },
 "nbformat": 4,
 "nbformat_minor": 4
}
