{
 "cells": [
  {
   "cell_type": "code",
   "execution_count": 11,
   "metadata": {},
   "outputs": [
    {
     "name": "stdout",
     "output_type": "stream",
     "text": [
      "True\n"
     ]
    }
   ],
   "source": [
    "current_hour = 11\n",
    "current_minute = 55\n",
    "current_section = \"AM\"\n",
    "due_hour = 2\n",
    "due_minute = 15\n",
    "due_section = \"PM\"\n",
    "\n",
    "#You may modify the lines of code above, but don't move them!\n",
    "#When you Submit your code, we'll change these lines to\n",
    "#assign different values to the variables.\n",
    "\n",
    "#Given the current time and deadline time represented by the\n",
    "#variables above, determine if an assignment is still eligible\n",
    "#for submission. An assignment is eligible if the time\n",
    "#represented by current_hour, current_minute, and\n",
    "#current_section is before the time represented by due_hour,\n",
    "#due_minute, and due_section.\n",
    "\n",
    "\n",
    "#Add your code here!\n",
    "if current_hour == 12:\n",
    "    current_hour = 0\n",
    "if due_hour == 12:\n",
    "    due_hour = 0\n",
    "        \n",
    "if current_section > due_section:\n",
    "    print(False)\n",
    "elif current_section < due_section:\n",
    "    print(True)\n",
    "elif current_hour > due_hour:\n",
    "    print(False)\n",
    "elif current_hour == due_hour:\n",
    "    if current_minute > due_minute:\n",
    "        print(False)\n",
    "else:\n",
    "    print(True)"
   ]
  },
  {
   "cell_type": "code",
   "execution_count": null,
   "metadata": {},
   "outputs": [],
   "source": []
  }
 ],
 "metadata": {
  "kernelspec": {
   "display_name": "Python 3",
   "language": "python",
   "name": "python3"
  },
  "language_info": {
   "codemirror_mode": {
    "name": "ipython",
    "version": 3
   },
   "file_extension": ".py",
   "mimetype": "text/x-python",
   "name": "python",
   "nbconvert_exporter": "python",
   "pygments_lexer": "ipython3",
   "version": "3.8.3"
  }
 },
 "nbformat": 4,
 "nbformat_minor": 4
}
