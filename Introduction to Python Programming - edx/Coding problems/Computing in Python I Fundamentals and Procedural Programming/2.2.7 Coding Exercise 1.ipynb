{
 "cells": [
  {
   "cell_type": "code",
   "execution_count": 3,
   "metadata": {},
   "outputs": [
    {
     "name": "stdout",
     "output_type": "stream",
     "text": [
      "8 <class 'str'>\n",
      "8.2 <class 'str'>\n",
      "2020-10-23 <class 'str'>\n",
      "False <class 'str'>\n"
     ]
    }
   ],
   "source": [
    "#In the code below, four variables are created:\n",
    "#an integer, a float, a date, and a boolean.\n",
    "#\n",
    "#Create four new variables: integer_as_string,\n",
    "#float_as_string, date_as_string, and\n",
    "#boolean_as_string.\n",
    "#\n",
    "#Convert the corresponding variables to strings.\n",
    "#So, boolean_as_string should have the string\n",
    "#version of the current value of new_boolean.\n",
    "\n",
    "from datetime import date\n",
    "new_integer = 8\n",
    "new_float = 8.2\n",
    "new_date = date.today()\n",
    "new_boolean = False\n",
    "\n",
    "########My code###########\n",
    "integer_as_string  = str(new_integer)\n",
    "float_as_string = str(new_float)\n",
    "date_as_string = str(new_date)\n",
    "boolean_as_string = str(new_boolean)\n",
    "\n",
    "#The lines of code below will test your code.\n",
    "#If it works, they will print the four string\n",
    "#values, each followed by \"<class 'str'>\".\n",
    "print(integer_as_string, type(integer_as_string))\n",
    "print(float_as_string, type(float_as_string))\n",
    "print(date_as_string, type(date_as_string))\n",
    "print(boolean_as_string, type(boolean_as_string))\n",
    "\n"
   ]
  },
  {
   "cell_type": "code",
   "execution_count": null,
   "metadata": {},
   "outputs": [],
   "source": []
  }
 ],
 "metadata": {
  "kernelspec": {
   "display_name": "Python 3",
   "language": "python",
   "name": "python3"
  },
  "language_info": {
   "codemirror_mode": {
    "name": "ipython",
    "version": 3
   },
   "file_extension": ".py",
   "mimetype": "text/x-python",
   "name": "python",
   "nbconvert_exporter": "python",
   "pygments_lexer": "ipython3",
   "version": "3.8.3"
  }
 },
 "nbformat": 4,
 "nbformat_minor": 4
}
