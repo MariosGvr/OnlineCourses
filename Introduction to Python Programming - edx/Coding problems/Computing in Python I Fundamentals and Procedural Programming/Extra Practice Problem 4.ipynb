{
 "cells": [
  {
   "cell_type": "code",
   "execution_count": 5,
   "metadata": {},
   "outputs": [
    {
     "name": "stdout",
     "output_type": "stream",
     "text": [
      "True\n"
     ]
    }
   ],
   "source": [
    "import datetime\n",
    "start_date = datetime.date(2017, 2, 16)\n",
    "end_date = datetime.date(2017, 2, 16)\n",
    "start_time = datetime.time(4, 30, 0)\n",
    "end_time = datetime.time(4, 30, 17)\n",
    "\n",
    "#You may modify the lines of code above, but don't move them!\n",
    "#When you Submit your code, we'll change these lines to\n",
    "#assign different values to the variables.\n",
    "\n",
    "#Above, there are four variables: start_date, end_date,\n",
    "#start_time, and end_time. start_date and start_time together\n",
    "#represent a certain time on a certain date, and end_date and\n",
    "#end_time represent a different time on a different date.\n",
    "#\n",
    "#Add some code below that will print True if the end time\n",
    "#occurs after the start time. Print False if the end time\n",
    "#occurs before the start time. For example, 11:15:00 on\n",
    "#01/01/2017 would be before 09:00:00 on 01/05/2017, which\n",
    "#would be before 11:25:00 on 01/05/2017.\n",
    "#\n",
    "#Note that you may use dot notation to access the individual\n",
    "#parts of the dates and times. You can access the hour,\n",
    "#minute, and seconds from start_time with start_time.hour,\n",
    "#start_time.minute, and start_time.second. You can access\n",
    "#the year, month, and day of start_date with\n",
    "#start_date.year, start_date.month, and start_date.day. You\n",
    "#can use the same syntax to access the parts of end_date.\n",
    "#Note that Python uses 24-hour time.\n",
    "\n",
    "#Add your code here!\n",
    "\n",
    "if start_date <= end_date and start_time < end_time:\n",
    "    print(True)\n",
    "else:\n",
    "    print(False)"
   ]
  },
  {
   "cell_type": "code",
   "execution_count": null,
   "metadata": {},
   "outputs": [],
   "source": []
  }
 ],
 "metadata": {
  "kernelspec": {
   "display_name": "Python 3",
   "language": "python",
   "name": "python3"
  },
  "language_info": {
   "codemirror_mode": {
    "name": "ipython",
    "version": 3
   },
   "file_extension": ".py",
   "mimetype": "text/x-python",
   "name": "python",
   "nbconvert_exporter": "python",
   "pygments_lexer": "ipython3",
   "version": "3.8.3"
  }
 },
 "nbformat": 4,
 "nbformat_minor": 4
}
