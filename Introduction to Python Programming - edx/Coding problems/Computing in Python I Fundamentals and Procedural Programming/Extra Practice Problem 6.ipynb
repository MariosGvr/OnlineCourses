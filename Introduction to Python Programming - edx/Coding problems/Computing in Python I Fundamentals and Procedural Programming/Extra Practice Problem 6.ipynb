{
 "cells": [
  {
   "cell_type": "code",
   "execution_count": 1,
   "metadata": {},
   "outputs": [
    {
     "name": "stdout",
     "output_type": "stream",
     "text": [
      "True\n"
     ]
    }
   ],
   "source": [
    "principal = 40000\n",
    "rate = 0.05\n",
    "years = 5\n",
    "goal = 50000\n",
    "\n",
    "#You may modify the lines of code above, but don't move them!\n",
    "#When you Submit your code, we'll change these lines to\n",
    "#assign different values to the variables.\n",
    "\n",
    "#Last problem, we calculated how much money a person would\n",
    "#have to invest to reach a certain savings goal. Now, let's\n",
    "#modify that to instead take a principal, interest rate,\n",
    "#number of years, and savings goal, and report whether or not\n",
    "#the person will meet their savings goal.\n",
    "#\n",
    "#Add some code below that will calculate whether the\n",
    "#investment described by the values above will meet the given\n",
    "#goal. If it will, print True. If it will not, print False.\n",
    "#\n",
    "#As a reminder, the formula for the value of an account after\n",
    "#a given time (in number of years) is:\n",
    "#\n",
    "#  Current Value = principal * e ^ (rate * number of years)\n",
    "#\n",
    "#Remember, you can access e using math.e as long as you don't\n",
    "#change the next line. You don't need to worry about rounding\n",
    "#on this problem.\n",
    "import math\n",
    "\n",
    "\n",
    "#Add your code here!\n",
    "Current_Value = principal * (math.e ** (rate * years))\n",
    "if Current_Value >= goal:\n",
    "    print(True)\n",
    "else:\n",
    "    print(False)"
   ]
  },
  {
   "cell_type": "code",
   "execution_count": null,
   "metadata": {},
   "outputs": [],
   "source": []
  }
 ],
 "metadata": {
  "kernelspec": {
   "display_name": "Python 3",
   "language": "python",
   "name": "python3"
  },
  "language_info": {
   "codemirror_mode": {
    "name": "ipython",
    "version": 3
   },
   "file_extension": ".py",
   "mimetype": "text/x-python",
   "name": "python",
   "nbconvert_exporter": "python",
   "pygments_lexer": "ipython3",
   "version": "3.8.3"
  }
 },
 "nbformat": 4,
 "nbformat_minor": 4
}
