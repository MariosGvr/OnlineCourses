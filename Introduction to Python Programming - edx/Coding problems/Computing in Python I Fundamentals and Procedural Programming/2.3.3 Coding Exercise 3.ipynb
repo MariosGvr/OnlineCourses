{
 "cells": [
  {
   "cell_type": "code",
   "execution_count": null,
   "metadata": {},
   "outputs": [],
   "source": [
    "list_of_fruits = [\"grape\", \"orange\", \"banana\", \"kiwi\", \"pear\"]\n",
    "search_fruit = \"kiwi\"\n",
    "\n",
    "#You may modify the lines of code above, but don't move them!\n",
    "#When you Submit your code, we'll change these lines to\n",
    "#assign different values to the variables.\n",
    "#\n",
    "#We'll learn more about lists in chapter 4.3, but you can\n",
    "#change the items in the list just by following the same format:\n",
    "#put strings in quotes, separate different items with commas.\n",
    "#\n",
    "#Write some code that will print True if the value of\n",
    "#search_fruit is in the list, and False if it is not. For\n",
    "#example, with the original values above, it would print True\n",
    "#because \"kiwi\" is an item in the list. if we changed the value\n",
    "#of search_fruit to \"strawberry\", it would print False.\n",
    "\n",
    "result = (search_fruit in list_of_fruits)\n",
    "print(result)\n",
    "\n",
    "#Add your code here!"
   ]
  }
 ],
 "metadata": {
  "kernelspec": {
   "display_name": "Python 3",
   "language": "python",
   "name": "python3"
  },
  "language_info": {
   "codemirror_mode": {
    "name": "ipython",
    "version": 3
   },
   "file_extension": ".py",
   "mimetype": "text/x-python",
   "name": "python",
   "nbconvert_exporter": "python",
   "pygments_lexer": "ipython3",
   "version": "3.8.3"
  }
 },
 "nbformat": 4,
 "nbformat_minor": 4
}
