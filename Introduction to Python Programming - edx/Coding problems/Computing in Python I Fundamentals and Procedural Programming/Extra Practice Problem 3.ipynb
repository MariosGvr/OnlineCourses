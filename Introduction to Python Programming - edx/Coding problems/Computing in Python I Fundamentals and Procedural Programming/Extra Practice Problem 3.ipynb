{
 "cells": [
  {
   "cell_type": "code",
   "execution_count": 7,
   "metadata": {},
   "outputs": [
    {
     "name": "stdout",
     "output_type": "stream",
     "text": [
      "Hat: True\n",
      "Gloves: True\n",
      "Umbrella: True\n",
      "Scarf: False\n"
     ]
    }
   ],
   "source": [
    "hot = False\n",
    "cold = True\n",
    "rainy = True\n",
    "windy = False\n",
    "snowy = True\n",
    "\n",
    "#You may modify the lines of code above, but don't move them!\n",
    "#When you Submit your code, we'll change these lines to\n",
    "#assign different values to the variables.\n",
    "\n",
    "#Earlier, you wrote a program that made clothing\n",
    "#recommendations based on the weather. Your program could\n",
    "#specifically recommend a jacket, boots, flip-flips, or a\n",
    "#tshirt based on whether it was hot, cold, rainy, windy, or\n",
    "#snowy.\n",
    "#\n",
    "#Let's add some accessories to that program: a hat, gloves,\n",
    "#umbrella, and a scarf.\n",
    "#\n",
    "#Specifically, the program should recommend:\n",
    "#\n",
    "# - a hat if it's cold, or if it's hot but not rainy (cold\n",
    "#   and rainy still means a hat, though).\n",
    "# - gloves if it's cold and either snowy or rainy.\n",
    "# - an umbrella if it's hot, snowy, or rainy.\n",
    "# - a scarf if it's cold and windy or cold and snowy\n",
    "#   unless it's rainy. Rain means no scarf regardless of\n",
    "#   whether it's cold, windy, or snowy.\n",
    "#\n",
    "#Write some code below that will print four lines, one for\n",
    "#each of the four types of clothing. The lines should look\n",
    "#like this:\n",
    "#\n",
    "#Hat: True\n",
    "#Gloves: True\n",
    "#Umbrella: False\n",
    "#Scarf: False\n",
    "#\n",
    "#The values (True and False) will differ based on the\n",
    "#values assigned to hot, cold, windy, snowy, and rainy\n",
    "#at the start of the program.\n",
    "\n",
    "\n",
    "#Add your code here!\n",
    "if cold == True or (hot == True and not rainy == True):\n",
    "    print(\"Hat: True\")\n",
    "else:\n",
    "    print(\"Hat: False\")\n",
    "    \n",
    "if cold == True and (snowy == True or rainy == True):\n",
    "    print(\"Gloves: True\")\n",
    "else:\n",
    "    print(\"Gloves: False\")\n",
    "\n",
    "if hot == True or snowy == True or rainy == True:\n",
    "    print(\"Umbrella: True\")\n",
    "else:\n",
    "    print(\"Umbrella: False\")\n",
    "\n",
    "if rainy == True:\n",
    "    print (\"Scarf: False\")\n",
    "elif (cold == True and windy == True) or (cold == True and snowy == True):\n",
    "    print(\"Scarf: True\")\n",
    "else:\n",
    "    print(\"Scarf: False\")"
   ]
  },
  {
   "cell_type": "code",
   "execution_count": null,
   "metadata": {},
   "outputs": [],
   "source": []
  }
 ],
 "metadata": {
  "kernelspec": {
   "display_name": "Python 3",
   "language": "python",
   "name": "python3"
  },
  "language_info": {
   "codemirror_mode": {
    "name": "ipython",
    "version": 3
   },
   "file_extension": ".py",
   "mimetype": "text/x-python",
   "name": "python",
   "nbconvert_exporter": "python",
   "pygments_lexer": "ipython3",
   "version": "3.8.3"
  }
 },
 "nbformat": 4,
 "nbformat_minor": 4
}
