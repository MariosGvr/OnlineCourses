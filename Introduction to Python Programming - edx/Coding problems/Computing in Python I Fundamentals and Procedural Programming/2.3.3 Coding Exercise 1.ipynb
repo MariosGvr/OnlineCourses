{
 "cells": [
  {
   "cell_type": "code",
   "execution_count": null,
   "metadata": {},
   "outputs": [],
   "source": [
    "mystery_value_1 = 4\n",
    "mystery_value_2 = 6\n",
    "\n",
    "#When you submit your code, we'll test it with different\n",
    "#values for mystery_value_1 and mystery_value_2 by\n",
    "#overwriting the lines above. So, don't add any code before\n",
    "#those two lines! However, you can change the two lines\n",
    "#above to test your code with different values.\n",
    "\n",
    "#Complete this program so that it prints True if\n",
    "#mystery_value_2 is greater than or equal to mystery_value_1,\n",
    "#and False otherwise.\n",
    "#\n",
    "#Hint: You can print the result of that comparison directly!\n",
    "\n",
    "\n",
    "#Write your code here!\n",
    "if mystery_value_2 >= mystery_value_1:\n",
    "    print(\"True\")\n",
    "else:\n",
    "    print(\"False\")\n",
    "\n",
    "#When you submit your code, we'll test it with multiple test\n",
    "#cases, including some that are randomly-generated."
   ]
  }
 ],
 "metadata": {
  "kernelspec": {
   "display_name": "Python 3",
   "language": "python",
   "name": "python3"
  },
  "language_info": {
   "codemirror_mode": {
    "name": "ipython",
    "version": 3
   },
   "file_extension": ".py",
   "mimetype": "text/x-python",
   "name": "python",
   "nbconvert_exporter": "python",
   "pygments_lexer": "ipython3",
   "version": "3.8.3"
  }
 },
 "nbformat": 4,
 "nbformat_minor": 4
}
