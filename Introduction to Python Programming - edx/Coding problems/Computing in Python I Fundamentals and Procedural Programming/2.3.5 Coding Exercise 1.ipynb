{
 "cells": [
  {
   "cell_type": "code",
   "execution_count": null,
   "metadata": {},
   "outputs": [],
   "source": [
    "hungry = True\n",
    "coworkers_going = False\n",
    "brought_lunch = False\n",
    "\n",
    "#You may modify the lines of code above, but don't move them!\n",
    "#When you Submit your code, we'll change these lines to\n",
    "#assign different values to the variables.\n",
    "\n",
    "#Imagine you're deciding whether or not to go out to lunch.\n",
    "#You only want to go if you're hungry. If you're hungry, even\n",
    "#then you only want to go if you didn't bring lunch or if\n",
    "#your coworkers are going. If your coworkers are going, you\n",
    "#still want to go to be social even if you brought your lunch.\n",
    "#\n",
    "#Write some code that will use the three boolean variables\n",
    "#defined above to print whether or not to go out to lunch.\n",
    "#It should print True if hungry is True, and either\n",
    "#coworkers_going is True or brought_lunch is False.\n",
    "#Otherwise, it should print False.\n",
    "\n",
    "\n",
    "#Write your code here!\n",
    "\n",
    "result = (hungry  and (coworkers_going or (not brought_lunch)))\n",
    "print (result)"
   ]
  }
 ],
 "metadata": {
  "kernelspec": {
   "display_name": "Python 3",
   "language": "python",
   "name": "python3"
  },
  "language_info": {
   "codemirror_mode": {
    "name": "ipython",
    "version": 3
   },
   "file_extension": ".py",
   "mimetype": "text/x-python",
   "name": "python",
   "nbconvert_exporter": "python",
   "pygments_lexer": "ipython3",
   "version": "3.8.3"
  }
 },
 "nbformat": 4,
 "nbformat_minor": 4
}
