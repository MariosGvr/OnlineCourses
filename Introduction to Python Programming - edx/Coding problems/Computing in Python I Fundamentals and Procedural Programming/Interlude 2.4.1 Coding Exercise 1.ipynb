{
 "cells": [
  {
   "cell_type": "code",
   "execution_count": null,
   "metadata": {},
   "outputs": [],
   "source": [
    "q1 = 5\n",
    "q2 = -10\n",
    "r = 5\n",
    "\n",
    "#You may modify the lines of code above, but don't move them!\n",
    "#When you Submit your code, we'll change these lines to\n",
    "#assign different values to the variables.\n",
    "#\n",
    "#Below is some code that calculates electric potential energy\n",
    "#based on Coulomb's law. However, it's presently broken, and\n",
    "#can be fixed solely by fixing the parentheses.\n",
    "#\n",
    "#Fix this code. When it's correct, it should print:\n",
    "#The electric potential energy is -89877424379.88\n",
    "\n",
    "from math import pi\n",
    "e = 8.854 * 10 ** -12\n",
    "\n",
    "val_1 = (1 / (4 * pi * e))\n",
    "val_2 = (q1 * q2) / r\n",
    "\n",
    "print(\"The electric potential energy is\", round((val_1 * val_2), 2))"
   ]
  }
 ],
 "metadata": {
  "kernelspec": {
   "display_name": "Python 3",
   "language": "python",
   "name": "python3"
  },
  "language_info": {
   "codemirror_mode": {
    "name": "ipython",
    "version": 3
   },
   "file_extension": ".py",
   "mimetype": "text/x-python",
   "name": "python",
   "nbconvert_exporter": "python",
   "pygments_lexer": "ipython3",
   "version": "3.8.3"
  }
 },
 "nbformat": 4,
 "nbformat_minor": 4
}
