{
 "cells": [
  {
   "cell_type": "code",
   "execution_count": 6,
   "metadata": {},
   "outputs": [
    {
     "name": "stdout",
     "output_type": "stream",
     "text": [
      "hi\n",
      "27\n"
     ]
    }
   ],
   "source": [
    "current_day = 31\n",
    "current_month = 5\n",
    "current_year = 2018\n",
    "birth_day = 19\n",
    "birth_month = 12\n",
    "birth_year = 1990\n",
    "\n",
    "#You may modify the lines of code above, but don't move them!\n",
    "#When you Submit your code, we'll change these lines to\n",
    "#assign different values to the variables.\n",
    "\n",
    "#Given the current date and birth date held by the variables\n",
    "#above, calculate and print this person's current age. Note\n",
    "#that if their birth date has not yet passed this year, your\n",
    "#result would be one less than if it has.\n",
    "#\n",
    "#For example, with the variables given above, the person\n",
    "#would turn 28 on December 12th, 2018. So, as of May 31st,\n",
    "#2018, they are 27.\n",
    "\n",
    "\n",
    "#Add your code here!\n",
    "\n",
    "\n",
    "years = current_year - birth_year\n",
    "if birth_month > current_month:\n",
    "    print(years - 1)\n",
    "elif birth_month == current_month:\n",
    "    if birth_day > current_day:\n",
    "        print(years - 1)\n",
    "    else:\n",
    "        print(years)\n",
    "else:\n",
    "    print(years)\n"
   ]
  },
  {
   "cell_type": "code",
   "execution_count": null,
   "metadata": {},
   "outputs": [],
   "source": []
  }
 ],
 "metadata": {
  "kernelspec": {
   "display_name": "Python 3",
   "language": "python",
   "name": "python3"
  },
  "language_info": {
   "codemirror_mode": {
    "name": "ipython",
    "version": 3
   },
   "file_extension": ".py",
   "mimetype": "text/x-python",
   "name": "python",
   "nbconvert_exporter": "python",
   "pygments_lexer": "ipython3",
   "version": "3.8.3"
  }
 },
 "nbformat": 4,
 "nbformat_minor": 4
}
