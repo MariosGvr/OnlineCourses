{
 "cells": [
  {
   "cell_type": "code",
   "execution_count": 1,
   "metadata": {},
   "outputs": [
    {
     "name": "stdout",
     "output_type": "stream",
     "text": [
      "!!!lol!!!lol!!!lol!!!\n"
     ]
    }
   ],
   "source": [
    "message = \"lol\"\n",
    "punct = \"!\"\n",
    "num = 3\n",
    "\n",
    "#You may modify the lines of code above, but don't move them!\n",
    "#When you Submit your code, we'll change these lines to\n",
    "#assign different values to the variables.\n",
    "\n",
    "#Using the values of message, punct, and num, print\n",
    "#a string that looks like the one below if message = \"lol\",\n",
    "#punct = \"!\", and num = 3:\n",
    "#\n",
    "# !!!lol!!!lol!!!lol!!!\n",
    "#\n",
    "#Specifically, it should start by printing punct num\n",
    "#times, then print message, repeat that entire process\n",
    "#num times, and then print punct num times again.\n",
    "#\n",
    "#Here are a couple other examples:\n",
    "#\n",
    "# message = \"bbl\", punct = \":\", num = 1 -> :bbl:\n",
    "# message = \"bbq\", punct = \"?\", num = 2 -> ??bbq??bbq??\n",
    "# message = \"brb\", punct = \".\", num = 4 -> ....brb....brb....brb....brb....\n",
    "\n",
    "\n",
    "#Add your code below!\n",
    "\n",
    "puncts = punct * num\n",
    "puncts_mes = puncts + message\n",
    "puncts_mes *= num\n",
    "print(puncts_mes + puncts)\n"
   ]
  },
  {
   "cell_type": "code",
   "execution_count": null,
   "metadata": {},
   "outputs": [],
   "source": []
  }
 ],
 "metadata": {
  "kernelspec": {
   "display_name": "Python 3",
   "language": "python",
   "name": "python3"
  },
  "language_info": {
   "codemirror_mode": {
    "name": "ipython",
    "version": 3
   },
   "file_extension": ".py",
   "mimetype": "text/x-python",
   "name": "python",
   "nbconvert_exporter": "python",
   "pygments_lexer": "ipython3",
   "version": "3.8.3"
  }
 },
 "nbformat": 4,
 "nbformat_minor": 4
}
