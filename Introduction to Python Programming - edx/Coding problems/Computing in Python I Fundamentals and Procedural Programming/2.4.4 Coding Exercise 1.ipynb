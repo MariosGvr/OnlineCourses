{
 "cells": [
  {
   "cell_type": "code",
   "execution_count": null,
   "metadata": {},
   "outputs": [],
   "source": [
    "mystery_value_1 = 6\n",
    "mystery_value_2 = 2\n",
    "\n",
    "#You may modify the lines of code above, but don't move them!\n",
    "#When you Submit your code, we'll change these lines to\n",
    "#assign different values to the variables.\n",
    "\n",
    "#Write some lines of code below that will perform the\n",
    "#following operations in the given order:\n",
    "#\n",
    "# - Print the sum of mystery_value_1 and mystery_value_2\n",
    "# - Print the difference between mystery_value_1 and mystery_value_2\n",
    "#   (mystery_value_1 minus mystery_value_2)\n",
    "# - Print the product of mystery_value_1 and mystery_value_2\n",
    "# - Print the quotient of mystery_value_1 and mystery_value_2\n",
    "#   (mystery_value_1 divided by mystery_value_2)\n",
    "# - Print the modulus of mystery_value_1 and mystery_value_2\n",
    "#   (the remainder of the division operation above)\n",
    "#\n",
    "#These operations should not carry forward: each one should\n",
    "#act on the original values of mystery_value_1 and\n",
    "#mystery_value_2.\n",
    "\n",
    "print(mystery_value_1 + mystery_value_2)\n",
    "print(mystery_value_1 - mystery_value_2)\n",
    "print(mystery_value_1 * mystery_value_2)\n",
    "print(mystery_value_1 / mystery_value_2)\n",
    "print(mystery_value_1 % mystery_value_2)"
   ]
  }
 ],
 "metadata": {
  "kernelspec": {
   "display_name": "Python 3",
   "language": "python",
   "name": "python3"
  },
  "language_info": {
   "codemirror_mode": {
    "name": "ipython",
    "version": 3
   },
   "file_extension": ".py",
   "mimetype": "text/x-python",
   "name": "python",
   "nbconvert_exporter": "python",
   "pygments_lexer": "ipython3",
   "version": "3.8.3"
  }
 },
 "nbformat": 4,
 "nbformat_minor": 4
}
