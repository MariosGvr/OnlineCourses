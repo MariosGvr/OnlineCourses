{
 "cells": [
  {
   "cell_type": "code",
   "execution_count": null,
   "metadata": {},
   "outputs": [],
   "source": [
    "#In the code below, four variables are created.\n",
    "#Add to this code to make it find and print the\n",
    "#types of each of these four variables, in the\n",
    "#order in which they're declared (a, then b,\n",
    "#then c, then d). Don't worry about the variables\n",
    "#themselves quite yet -- some might be things\n",
    "#you're not familiar with, but that's ok!\n",
    "\n",
    "from datetime import date\n",
    "import random\n",
    "a = \"Hello, world!\"\n",
    "b = date.today()\n",
    "c = random.randint(0,100)\n",
    "d = random\n",
    "\n",
    "#Don't modify anything above this line!\n",
    "\n",
    "#Add your code here!\n",
    "print(type(a))\n",
    "print(type(b))\n",
    "print(type(c))\n",
    "print(type(d))"
   ]
  }
 ],
 "metadata": {
  "kernelspec": {
   "display_name": "Python 3",
   "language": "python",
   "name": "python3"
  },
  "language_info": {
   "codemirror_mode": {
    "name": "ipython",
    "version": 3
   },
   "file_extension": ".py",
   "mimetype": "text/x-python",
   "name": "python",
   "nbconvert_exporter": "python",
   "pygments_lexer": "ipython3",
   "version": "3.8.3"
  }
 },
 "nbformat": 4,
 "nbformat_minor": 4
}
