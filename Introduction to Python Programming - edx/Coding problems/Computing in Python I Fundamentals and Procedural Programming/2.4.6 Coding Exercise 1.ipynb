{
 "cells": [
  {
   "cell_type": "code",
   "execution_count": null,
   "metadata": {},
   "outputs": [],
   "source": [
    "mystery_string = \"ABCDE\"\n",
    "\n",
    "#You may modify the lines of code above, but don't move them!\n",
    "#When you Submit your code, we'll change these lines to\n",
    "#assign different values to the variables.\n",
    "\n",
    "#In the example above, we saw using operators to add\n",
    "#characters to the end of a string, and using operators to\n",
    "#multiply a string.\n",
    "#\n",
    "#Add some code below that uses those operators to modify\n",
    "#mystery_string such that its value at the end of the\n",
    "#program is: ABCDE.ABCDE.ABCDE.??? Then, print the final\n",
    "#value of mystery_string.\n",
    "#\n",
    "#You should not create any new strings longer than one\n",
    "#character. We'll test your code with a couple other\n",
    "#variants on mystery_string, but in all cases the results\n",
    "#should be the same: the string repeated three times with\n",
    "#a period after each repetition and three question marks\n",
    "#at the end.\n",
    "\n",
    "\n",
    "#Add your code here!\n",
    "mystery_string = 3 * (mystery_string + \".\")\n",
    "mystery_string += \"???\"\n",
    "print(mystery_string)\n"
   ]
  }
 ],
 "metadata": {
  "kernelspec": {
   "display_name": "Python 3",
   "language": "python",
   "name": "python3"
  },
  "language_info": {
   "codemirror_mode": {
    "name": "ipython",
    "version": 3
   },
   "file_extension": ".py",
   "mimetype": "text/x-python",
   "name": "python",
   "nbconvert_exporter": "python",
   "pygments_lexer": "ipython3",
   "version": "3.8.3"
  }
 },
 "nbformat": 4,
 "nbformat_minor": 4
}
